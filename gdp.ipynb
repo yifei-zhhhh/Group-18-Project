{
 "cells": [
  {
   "cell_type": "code",
   "execution_count": 30,
   "id": "58c93fb3",
   "metadata": {},
   "outputs": [],
   "source": [
    "import pandas as pd\n",
    "import numpy as np\n",
    "import altair as alt\n",
    "import streamlit as st"
   ]
  },
  {
   "cell_type": "markdown",
   "id": "91741fe1",
   "metadata": {},
   "source": [
    "## Wages"
   ]
  },
  {
   "cell_type": "markdown",
   "id": "ec9970e4",
   "metadata": {},
   "source": [
    "Data: https://data.bls.gov/cew/apps/table_maker/v4/table_maker.htm#\n",
    "如果打不开https://data.bls.gov/cew/apps/data_views/data_views.htm#tab=Tables\n",
    "在下面18.One area, one industry, quarterly 选2019-2022 All Ownerships，我没找到下载键所以手动输入了loll\n",
    "\n",
    "<img src='wages.png'>"
   ]
  },
  {
   "cell_type": "code",
   "execution_count": 31,
   "id": "82f65a29",
   "metadata": {},
   "outputs": [],
   "source": [
    "data = {'time': ['2019Q1', '2019Q2', '2019Q3', '2019Q4',\n",
    "                '2020Q1', '2020Q2', '2020Q3', '2020Q4',\n",
    "                '2021Q1', '2021Q2', '2021Q3', '2021Q4',\n",
    "                '2022Q1', '2022Q2', '2022Q3'],\n",
    "        'Average Weekly Wage': [1183, 1094, 1092, 1185, 1221, \n",
    "                                1188, 1172, 1339, 1288, 1241, 1250, 1418, 1374, 1292, 1334]}\n",
    "wage = pd.DataFrame(data)\n",
    "# wage"
   ]
  },
  {
   "cell_type": "code",
   "execution_count": 32,
   "id": "f32f158f",
   "metadata": {},
   "outputs": [
    {
     "name": "stderr",
     "output_type": "stream",
     "text": [
      "/var/folders/x8/084zgd0s5r7g56xgsy4qv4w40000gn/T/ipykernel_9276/1331420731.py:3: SettingWithCopyWarning: \n",
      "A value is trying to be set on a copy of a slice from a DataFrame\n",
      "\n",
      "See the caveats in the documentation: https://pandas.pydata.org/pandas-docs/stable/user_guide/indexing.html#returning-a-view-versus-a-copy\n",
      "  wage['change'][i] = round((wage['Average Weekly Wage'][i]-wage['Average Weekly Wage'][i-1])\\\n"
     ]
    }
   ],
   "source": [
    "wage['change'] = round((1183-1145)/1145*100,2) #2018Q4:1145\n",
    "for i in range(1, len(wage)):\n",
    "    wage['change'][i] = round((wage['Average Weekly Wage'][i]-wage['Average Weekly Wage'][i-1])\\\n",
    "    /wage['Average Weekly Wage'][i-1]*100,2)\n",
    "# wage"
   ]
  },
  {
   "cell_type": "markdown",
   "id": "2985af95",
   "metadata": {},
   "source": [
    "## General Look on Real Gross Domestic Product and Related Measures: Percent Change from Preceding Period"
   ]
  },
  {
   "cell_type": "code",
   "execution_count": 33,
   "id": "a717a4f1",
   "metadata": {},
   "outputs": [],
   "source": [
    "xls = pd.ExcelFile('gdp4q22_2nd.xlsx')\n",
    "df1 = pd.read_excel(xls, 'Table 1', header=1)"
   ]
  },
  {
   "cell_type": "code",
   "execution_count": 34,
   "id": "6cb95c07",
   "metadata": {},
   "outputs": [],
   "source": [
    "df = df1.set_index('Unnamed: 1').T\n",
    "df.reset_index(inplace=True)"
   ]
  },
  {
   "cell_type": "code",
   "execution_count": 35,
   "id": "9e3ef8a2",
   "metadata": {},
   "outputs": [],
   "source": [
    "df = df.drop(df.columns[[0]],axis = 1)\n",
    "df = df.drop(df.index[[0,1,2,3]],axis = 0)\n",
    "df.columns.values[0] = \"year\"\n",
    "df.columns.values[1] = \"quarter\"\n",
    "df['time'] = df['year'].astype(str)+df['quarter']"
   ]
  },
  {
   "cell_type": "code",
   "execution_count": 36,
   "id": "bfdcbcc3",
   "metadata": {
    "scrolled": true
   },
   "outputs": [
    {
     "name": "stderr",
     "output_type": "stream",
     "text": [
      "/var/folders/x8/084zgd0s5r7g56xgsy4qv4w40000gn/T/ipykernel_9276/3803961988.py:4: SettingWithCopyWarning: \n",
      "A value is trying to be set on a copy of a slice from a DataFrame.\n",
      "Try using .loc[row_indexer,col_indexer] = value instead\n",
      "\n",
      "See the caveats in the documentation: https://pandas.pydata.org/pandas-docs/stable/user_guide/indexing.html#returning-a-view-versus-a-copy\n",
      "  consumption['time'] = consumption['time'].str[:6]\n"
     ]
    }
   ],
   "source": [
    "consumption = df[['time', 'Gross domestic product (GDP)', 'Personal consumption expenditures',\\\n",
    "                 'Gross private domestic investment', 'Exports', 'Imports',\\\n",
    "                 'Government consumption expenditures and gross investment']]\n",
    "consumption['time'] = consumption['time'].str[:6]"
   ]
  },
  {
   "cell_type": "code",
   "execution_count": 37,
   "id": "61326117",
   "metadata": {},
   "outputs": [],
   "source": [
    "dat = consumption.merge(wage[['time', 'change']], on='time', how='left')"
   ]
  },
  {
   "cell_type": "code",
   "execution_count": 38,
   "id": "5ddfd9c5",
   "metadata": {},
   "outputs": [],
   "source": [
    "# dat"
   ]
  },
  {
   "cell_type": "code",
   "execution_count": 39,
   "id": "33ba2111",
   "metadata": {},
   "outputs": [],
   "source": [
    "dat_long = pd.melt(dat, id_vars='time', value_vars=['Gross domestic product (GDP)', \\\n",
    "                                                    'Personal consumption expenditures', \\\n",
    "                                                   'Gross private domestic investment',\n",
    "                                                   'Exports', 'Imports', \\\n",
    "                                                    'Government consumption expenditures and gross investment',\n",
    "                                                   'change'])"
   ]
  },
  {
   "cell_type": "code",
   "execution_count": 40,
   "id": "17390837",
   "metadata": {},
   "outputs": [],
   "source": [
    "variables=list(dat_long['variable'].unique())\n",
    "variables = variables[:-1]\n",
    "\n",
    "selectQ=alt.selection_single(\n",
    "    fields=['variable'],\n",
    "    init={'variable':variables[0]},\n",
    "    bind=alt.binding_select(options=variables,name='Select Measures: ')\n",
    ")\n",
    "\n",
    "colorCondition = alt.condition(selectQ, 'variable:N', alt.value('lightgray'))\n",
    "opacityCondition = alt.condition(selectQ, alt.value(1), alt.value(0.4))\n",
    "\n",
    "base = alt.Chart(dat_long).encode(\n",
    "    x='time',\n",
    ").properties(\n",
    "    height=400,\n",
    "    width=650\n",
    ")\n",
    "\n",
    "q_chart = base.transform_filter(\n",
    "    alt.datum.variable != 'change'\n",
    ").mark_line().encode(\n",
    "    y=alt.Y('value:Q', title='Change on Measures (%)'),\n",
    "    color='variable:O'\n",
    ").add_selection(\n",
    "    selectQ\n",
    ").encode(\n",
    "    color=colorCondition,\n",
    "    opacity=opacityCondition\n",
    ")\n",
    "\n",
    "death_chart = base.transform_filter(\n",
    "    alt.datum.variable == 'change'\n",
    ").mark_line(color='purple').encode(\n",
    "    y=alt.Y('value:Q', title='Change on Average Weekly Wage (%)', \n",
    "            axis=alt.Axis(titleColor='purple'), scale=alt.Scale(domain=[-80, 100]))\n",
    ")\n",
    "\n",
    "gdp=alt.layer(q_chart, death_chart).resolve_scale(\n",
    "    y = 'independent', color='independent'\n",
    ").properties(title='Percent Change From Preceding Period on GDP Measures and Average Weekly Wage')\n",
    "# gdp"
   ]
  },
  {
   "cell_type": "markdown",
   "id": "863556d4",
   "metadata": {},
   "source": [
    "### Specific Look on Goods"
   ]
  },
  {
   "cell_type": "code",
   "execution_count": 41,
   "id": "887ad7a6",
   "metadata": {},
   "outputs": [],
   "source": [
    "df2 = pd.read_excel(xls, 'Table 2', header=1)\n",
    "df = df2.set_index('Unnamed: 1').T\n",
    "df.reset_index(inplace=True)\n",
    "df = df.drop(df.columns[[0]],axis = 1)\n",
    "df = df.drop(df.index[[0,1,2,3]],axis = 0)\n",
    "df.columns.values[0] = \"year\"\n",
    "df.columns.values[1] = \"quarter\"\n",
    "df['time'] = df['year'].astype(str)+df['quarter']\n",
    "df['time'] = df['time'].str[:6]"
   ]
  },
  {
   "cell_type": "code",
   "execution_count": 42,
   "id": "952fb39d",
   "metadata": {},
   "outputs": [],
   "source": [
    "goods = df[['Durable goods', 'Motor vehicles and parts', 'Furnishings and durable household equipment',\n",
    "                     'Recreational goods and vehicles',\\\n",
    "                 'Other durable goods', 'Nondurable goods', 'Food and beverages purchased for off-premises consumption', \\\n",
    "                     'Clothing and footwear', \n",
    "                'Gasoline and other energy goods', 'Other nondurable goods', 'time']]\n",
    "goods = goods.merge(wage[['time', 'change']], on='time', how='left')"
   ]
  },
  {
   "cell_type": "code",
   "execution_count": 43,
   "id": "0eb56bc8",
   "metadata": {},
   "outputs": [],
   "source": [
    "goods_long = pd.melt(goods, id_vars='time', value_vars=['Durable goods', 'Motor vehicles and parts', 'Furnishings and durable household equipment',\n",
    "                     'Recreational goods and vehicles',\\\n",
    "                 'Other durable goods', 'Nondurable goods', 'Food and beverages purchased for off-premises consumption', \\\n",
    "                      'Clothing and footwear', \n",
    "                'Gasoline and other energy goods', 'Other nondurable goods', 'change'])"
   ]
  },
  {
   "cell_type": "code",
   "execution_count": 44,
   "id": "b6d86292",
   "metadata": {},
   "outputs": [],
   "source": [
    "goods_long['type'] = 'Durable'\n",
    "for i in range(len(goods_long)):\n",
    "    if goods_long['variable'][i] in ('Nondurable goods',\n",
    "                                     'Food and beverages purchased for off-premises consumption', \\\n",
    "                     'Imports', 'Clothing and footwear', \n",
    "                'Gasoline and other energy goods', 'Other nondurable goods'):\n",
    "        goods_long['type'][i] = 'Nondurable'\n",
    "    elif goods_long['variable'][i] == 'change':\n",
    "        goods_long['type'][i] = 'Wage'"
   ]
  },
  {
   "cell_type": "code",
   "execution_count": 45,
   "id": "9872950e",
   "metadata": {},
   "outputs": [],
   "source": [
    "durable = goods_long[(goods_long['type'] == 'Durable') | (goods_long['type'] == 'Wage')]\n",
    "variables=list(durable['variable'].unique())\n",
    "variables = variables[:-1][1:]\n",
    "\n",
    "selectQ=alt.selection_single(\n",
    "    fields=['variable'],\n",
    "    init={'variable':variables[0]},\n",
    "    bind=alt.binding_select(options=variables,name='Select durable goods: ')\n",
    ")\n",
    "\n",
    "colorCondition = alt.condition(selectQ, 'variable:N', alt.value('lightgray'))\n",
    "\n",
    "\n",
    "base = alt.Chart(durable).encode(\n",
    "    x='time',\n",
    ").properties(\n",
    "    height=400,\n",
    "    width=500\n",
    ")\n",
    "\n",
    "goods_chart = base.transform_filter(\n",
    "    alt.datum.variable =='Durable goods'\n",
    ").mark_line(color='red').encode(\n",
    "    y=alt.Y('value:Q', \n",
    "            scale=alt.Scale(domain=[-8, 16]),\n",
    "))\n",
    "\n",
    "death_chart = base.transform_filter(\n",
    "    alt.datum.variable == 'change'\n",
    ").mark_line(color='gray').encode(\n",
    "    y=alt.Y('value:Q', title='Average Weekly Wage (%)',\n",
    "           axis=alt.Axis(titleColor='gray')),\n",
    ")\n",
    "\n",
    "bar_d = base.transform_filter(\n",
    "    (alt.datum.variable !='Durable goods')\n",
    "    &(alt.datum.variable !='change')\n",
    ").mark_bar().encode(\n",
    "    y=alt.Y('value:Q', title='Durable Goods (%)', axis=alt.Axis(titleColor='red')),\n",
    "    color='type:O'\n",
    ").add_selection(selectQ).transform_filter(selectQ)\n",
    "\n",
    "durable_line = alt.layer(bar_d+goods_chart, death_chart).resolve_scale(\n",
    "    y = 'independent'\n",
    ").properties(title='Durable Goods')"
   ]
  },
  {
   "cell_type": "code",
   "execution_count": 46,
   "id": "b4337f82",
   "metadata": {},
   "outputs": [],
   "source": [
    "nondurable = goods_long[(goods_long['type'] == 'Nondurable') | (goods_long['type'] == 'Wage')]\n",
    "variables=list(nondurable['variable'].unique())\n",
    "variables = variables[:-1][1:]\n",
    "\n",
    "selectQ=alt.selection_single(\n",
    "    fields=['variable'],\n",
    "    init={'variable':variables[0]},\n",
    "    bind=alt.binding_select(options=variables,name='Select nondurable goods: ')\n",
    ")\n",
    "\n",
    "base = alt.Chart(nondurable).encode(\n",
    "    x='time',\n",
    ").properties(\n",
    "    height=400,\n",
    "    width=500\n",
    ")\n",
    "\n",
    "goods_chart2 = base.transform_filter(\n",
    "    alt.datum.variable =='Nondurable goods'\n",
    ").mark_line(color='red').encode(\n",
    "    y=alt.Y('value:Q',\n",
    "           scale=alt.Scale(domain=[-8, 16])\n",
    "))\n",
    "\n",
    "death_chart = base.transform_filter(\n",
    "    alt.datum.variable == 'change'\n",
    ").mark_line(color='gray').encode(\n",
    "    y=alt.Y('value:Q',  title='Average Weekly Wage (%)',\n",
    "           axis=alt.Axis(titleColor='gray'))\n",
    ")\n",
    "\n",
    "bar_n = base.transform_filter(\n",
    "    (alt.datum.variable !='Nondurable goods')\n",
    "    &(alt.datum.variable !='change')\n",
    ").mark_bar().encode(\n",
    "    y=alt.Y('value:Q', title='Nondurable Goods(%)', axis=alt.Axis(titleColor='red')),\n",
    "    color='type:O'\n",
    ").add_selection(selectQ).transform_filter(selectQ)\n",
    "\n",
    "nondurable_line = alt.layer(bar_n+goods_chart2, death_chart).resolve_scale(\n",
    "    y = 'independent'\n",
    ").properties(title='Nondurable Goods')\n",
    "\n",
    "# (durable_line|nondurable_line).properties(\n",
    "#     title=alt.TitleParams(\n",
    "#         text=\"Goods'Contributions to Percent Change in Real GDP\",\n",
    "#         anchor='middle')\n",
    "# )"
   ]
  },
  {
   "cell_type": "markdown",
   "id": "216ad68a",
   "metadata": {},
   "source": [
    "### Services"
   ]
  },
  {
   "cell_type": "code",
   "execution_count": 47,
   "id": "39584778",
   "metadata": {},
   "outputs": [],
   "source": [
    "services = df[['Household consumption expenditures (for services)', 'Housing and utilities', 'Health care',\n",
    "                     'Transportation services',\\\n",
    "                 'Recreation services', 'Food services and accommodations', 'Financial services and insurance', \\\n",
    "                     'Other services', 'time']]\n",
    "df['time'] = df['time'].str[:6]\n",
    "services = services.merge(wage[['time', 'change']], on='time', how='left')\n",
    "services_long = pd.melt(services, id_vars='time', value_vars=['Household consumption expenditures (for services)', \\\n",
    "                                                              'Housing and utilities', 'Health care',\n",
    "                     'Transportation services',\\\n",
    "                 'Recreation services', 'Food services and accommodations', 'Financial services and insurance', \\\n",
    "                     'Other services', 'change'])"
   ]
  },
  {
   "cell_type": "code",
   "execution_count": 48,
   "id": "5e968a37",
   "metadata": {},
   "outputs": [],
   "source": [
    "variables=list(services_long['variable'].unique())\n",
    "variables = variables[:-1][1:]\n",
    "\n",
    "selectQ=alt.selection_single(\n",
    "    fields=['variable'],\n",
    "    init={'variable':variables[0]},\n",
    "    bind=alt.binding_select(options=variables,name='Select services: ')\n",
    ")\n",
    "\n",
    "\n",
    "base = alt.Chart(services_long).encode(\n",
    "    x='time',\n",
    ").properties(\n",
    "    height=400,\n",
    "    width=500\n",
    ")\n",
    "\n",
    "service_chart = base.transform_filter(\n",
    "    alt.datum.variable =='Household consumption expenditures (for services)'\n",
    ").mark_line(color='red').encode(\n",
    "    y=alt.Y('value:Q'),\n",
    ")\n",
    "\n",
    "death_chart = base.transform_filter(\n",
    "    alt.datum.variable == 'change'\n",
    ").mark_line(color='gray').encode(\n",
    "    y=alt.Y('value:Q', title='Average Weekly Wage (%)',\n",
    "           axis=alt.Axis(titleColor='gray'), scale=alt.Scale(domain=[-25, 20]))\n",
    ")\n",
    "\n",
    "bar_s = base.transform_filter(\n",
    "    (alt.datum.variable !='Household consumption expenditures (for services)')\n",
    "    &(alt.datum.variable !='change')\n",
    ").mark_bar().encode(\n",
    "    y=alt.Y('value:Q', title='Household consumption expenditures (for services)(%)',\n",
    "           axis=alt.Axis(titleColor='red')),\n",
    ").add_selection(selectQ).transform_filter(selectQ)\n",
    "\n",
    "service=alt.layer(bar_s+service_chart, death_chart).resolve_scale(\n",
    "    y = 'independent'\n",
    ").properties(title=\"Services' Contributions to Percent Change in Real GDP\")\n",
    "# service"
   ]
  },
  {
   "cell_type": "markdown",
   "id": "a943558f",
   "metadata": {},
   "source": [
    "### With Wages"
   ]
  },
  {
   "cell_type": "code",
   "execution_count": 49,
   "id": "e7120f22",
   "metadata": {},
   "outputs": [],
   "source": [
    "# service|gdp"
   ]
  },
  {
   "cell_type": "code",
   "execution_count": 50,
   "id": "e190bf3f",
   "metadata": {},
   "outputs": [],
   "source": [
    "# (durable_line|nondurable_line).properties(\n",
    "#     title=alt.TitleParams(\n",
    "#         text=\"Goods'Contributions to Percent Change in Real GDP\",\n",
    "#         anchor='middle')\n",
    "# )"
   ]
  },
  {
   "cell_type": "markdown",
   "id": "f3c2286e",
   "metadata": {},
   "source": [
    "## Without Wages"
   ]
  },
  {
   "cell_type": "code",
   "execution_count": 51,
   "id": "a4b3f62c",
   "metadata": {},
   "outputs": [],
   "source": [
    "durable = goods_long[(goods_long['type'] == 'Durable') | (goods_long['type'] == 'Wage')]\n",
    "variables=list(durable['variable'].unique())\n",
    "variables = variables[:-1][1:]\n",
    "\n",
    "selectQ=alt.selection_single(\n",
    "    fields=['variable'],\n",
    "    init={'variable':variables[0]},\n",
    "    bind=alt.binding_select(options=variables,name='Select durable goods: ')\n",
    ")\n",
    "\n",
    "colorCondition = alt.condition(selectQ, 'variable:N', alt.value('lightgray'))\n",
    "\n",
    "\n",
    "base = alt.Chart(durable).encode(\n",
    "    x='time',\n",
    ").properties(\n",
    "    height=400,\n",
    "    width=500\n",
    ")\n",
    "\n",
    "goods_chart = base.transform_filter(\n",
    "    alt.datum.variable =='Durable goods'\n",
    ").mark_line(color='red').encode(\n",
    "    y=alt.Y('value:Q', \n",
    "#             scale=alt.Scale(domain=[-8, 16])\n",
    "))\n",
    "\n",
    "bar_d = base.transform_filter(\n",
    "    (alt.datum.variable !='Durable goods')\n",
    "    &(alt.datum.variable !='change')\n",
    ").mark_bar().encode(\n",
    "    y=alt.Y('value:Q', title='Durable Goods (%)'),\n",
    "    color='type:O'\n",
    ").add_selection(selectQ).transform_filter(selectQ)\n",
    "\n",
    "d = (bar_d+goods_chart).properties(title='Durable Goods')"
   ]
  },
  {
   "cell_type": "code",
   "execution_count": 52,
   "id": "dd435d1f",
   "metadata": {},
   "outputs": [
    {
     "name": "stderr",
     "output_type": "stream",
     "text": [
      "/var/folders/x8/084zgd0s5r7g56xgsy4qv4w40000gn/T/ipykernel_9276/3720421527.py:4: SettingWithCopyWarning: \n",
      "A value is trying to be set on a copy of a slice from a DataFrame.\n",
      "Try using .loc[row_indexer,col_indexer] = value instead\n",
      "\n",
      "See the caveats in the documentation: https://pandas.pydata.org/pandas-docs/stable/user_guide/indexing.html#returning-a-view-versus-a-copy\n",
      "  nondurable['line_label'] = len(nondurable) * ['overall contribution']\n"
     ]
    }
   ],
   "source": [
    "nondurable = goods_long[(goods_long['type'] == 'Nondurable') | (goods_long['type'] == 'Wage')]\n",
    "variables=list(nondurable['variable'].unique())\n",
    "variables = variables[:-1][1:]\n",
    "nondurable['line_label'] = len(nondurable) * ['overall contribution']\n",
    "\n",
    "selectQ=alt.selection_single(\n",
    "    fields=['variable'],\n",
    "    init={'variable':variables[0]},\n",
    "    bind=alt.binding_select(options=variables,name='Select nondurable goods: ')\n",
    ")\n",
    "\n",
    "base = alt.Chart(nondurable).encode(\n",
    "    x='time',\n",
    ").properties(\n",
    "    height=400,\n",
    "    width=500\n",
    ")\n",
    "\n",
    "goods_chart2 = base.transform_filter(\n",
    "    alt.datum.variable =='Nondurable goods'\n",
    ").mark_line(color='red').encode(\n",
    "    y=alt.Y('value:Q',\n",
    "#            scale=alt.Scale(domain=[-8, 16])\n",
    "),\n",
    "opacity='line_label')\n",
    "\n",
    "bar_n = base.transform_filter(\n",
    "    (alt.datum.variable !='Nondurable goods')\n",
    "    &(alt.datum.variable !='change')\n",
    ").mark_bar().encode(\n",
    "    y=alt.Y('value:Q', title='Nondurable Goods(%)'),\n",
    "    color='type:O'\n",
    ").add_selection(selectQ).transform_filter(selectQ)\n",
    "\n",
    "nd = (bar_n+goods_chart2).properties(title='Nondurable Goods')"
   ]
  },
  {
   "cell_type": "code",
   "execution_count": 53,
   "id": "08c5859c",
   "metadata": {},
   "outputs": [],
   "source": [
    "goods = (d|nd).properties(\n",
    "    title=alt.TitleParams(\n",
    "        text=\"Goods' Contributions to Percent Change in Real GDP\",\n",
    "        anchor='middle')\n",
    ")"
   ]
  },
  {
   "cell_type": "code",
   "execution_count": 54,
   "id": "75ddb23e",
   "metadata": {},
   "outputs": [],
   "source": [
    "variables=list(services_long['variable'].unique())\n",
    "variables = variables[:-1][1:]\n",
    "services_long['line_label'] = len(services_long) * ['overall contribution']\n",
    "\n",
    "selectQ=alt.selection_single(\n",
    "    fields=['variable'],\n",
    "    init={'variable':variables[0]},\n",
    "    bind=alt.binding_select(options=variables,name='Select services: ')\n",
    ")\n",
    "\n",
    "\n",
    "base = alt.Chart(services_long).encode(\n",
    "    x='time',\n",
    ").properties(\n",
    "    height=400,\n",
    "    width=500\n",
    ")\n",
    "\n",
    "service_chart = base.transform_filter(\n",
    "    alt.datum.variable =='Household consumption expenditures (for services)'\n",
    ").mark_line(color='red').encode(\n",
    "    y=alt.Y('value:Q', scale=alt.Scale(domain=[-25,25])),\n",
    "    opacity='line_label',\n",
    ").properties(title=\"Services' Contributions to Percent Change in Real GDP\")\n",
    "\n",
    "bar_s = base.transform_filter(\n",
    "    (alt.datum.variable !='Household consumption expenditures (for services)')\n",
    "    &(alt.datum.variable !='change')\n",
    ").mark_bar().encode(\n",
    "    y=alt.Y('value:Q', title='Household consumption expenditures (for services)(%)'),\n",
    ").add_selection(selectQ).transform_filter(selectQ)\n",
    "\n",
    "service2 = (bar_s+service_chart)"
   ]
  },
  {
   "cell_type": "code",
   "execution_count": 55,
   "id": "de64dbc9",
   "metadata": {},
   "outputs": [],
   "source": [
    "st.title(\"Percent Change of GDP measures and Average Weekly Wage Quarterly Since 2019 to 2022\")\n",
    "st.write(\"The visualization below shows the percent change of real GDP versus the average weekly wage.\")\n",
    "st.write(\"Additionally, the users could select GDP's related measure through the dropdown box to make comparisons with the change of wage.\")"
   ]
  },
  {
   "cell_type": "code",
   "execution_count": 56,
   "id": "00308e86",
   "metadata": {},
   "outputs": [
    {
     "data": {
      "text/html": [
       "\n",
       "<div id=\"altair-viz-fafe7f38430840cabbaada2932c8998f\"></div>\n",
       "<script type=\"text/javascript\">\n",
       "  var VEGA_DEBUG = (typeof VEGA_DEBUG == \"undefined\") ? {} : VEGA_DEBUG;\n",
       "  (function(spec, embedOpt){\n",
       "    let outputDiv = document.currentScript.previousElementSibling;\n",
       "    if (outputDiv.id !== \"altair-viz-fafe7f38430840cabbaada2932c8998f\") {\n",
       "      outputDiv = document.getElementById(\"altair-viz-fafe7f38430840cabbaada2932c8998f\");\n",
       "    }\n",
       "    const paths = {\n",
       "      \"vega\": \"https://cdn.jsdelivr.net/npm//vega@5?noext\",\n",
       "      \"vega-lib\": \"https://cdn.jsdelivr.net/npm//vega-lib?noext\",\n",
       "      \"vega-lite\": \"https://cdn.jsdelivr.net/npm//vega-lite@4.17.0?noext\",\n",
       "      \"vega-embed\": \"https://cdn.jsdelivr.net/npm//vega-embed@6?noext\",\n",
       "    };\n",
       "\n",
       "    function maybeLoadScript(lib, version) {\n",
       "      var key = `${lib.replace(\"-\", \"\")}_version`;\n",
       "      return (VEGA_DEBUG[key] == version) ?\n",
       "        Promise.resolve(paths[lib]) :\n",
       "        new Promise(function(resolve, reject) {\n",
       "          var s = document.createElement('script');\n",
       "          document.getElementsByTagName(\"head\")[0].appendChild(s);\n",
       "          s.async = true;\n",
       "          s.onload = () => {\n",
       "            VEGA_DEBUG[key] = version;\n",
       "            return resolve(paths[lib]);\n",
       "          };\n",
       "          s.onerror = () => reject(`Error loading script: ${paths[lib]}`);\n",
       "          s.src = paths[lib];\n",
       "        });\n",
       "    }\n",
       "\n",
       "    function showError(err) {\n",
       "      outputDiv.innerHTML = `<div class=\"error\" style=\"color:red;\">${err}</div>`;\n",
       "      throw err;\n",
       "    }\n",
       "\n",
       "    function displayChart(vegaEmbed) {\n",
       "      vegaEmbed(outputDiv, spec, embedOpt)\n",
       "        .catch(err => showError(`Javascript Error: ${err.message}<br>This usually means there's a typo in your chart specification. See the javascript console for the full traceback.`));\n",
       "    }\n",
       "\n",
       "    if(typeof define === \"function\" && define.amd) {\n",
       "      requirejs.config({paths});\n",
       "      require([\"vega-embed\"], displayChart, err => showError(`Error loading script: ${err.message}`));\n",
       "    } else {\n",
       "      maybeLoadScript(\"vega\", \"5\")\n",
       "        .then(() => maybeLoadScript(\"vega-lite\", \"4.17.0\"))\n",
       "        .then(() => maybeLoadScript(\"vega-embed\", \"6\"))\n",
       "        .catch(showError)\n",
       "        .then(() => displayChart(vegaEmbed));\n",
       "    }\n",
       "  })({\"layer\": [{\"mark\": \"line\", \"encoding\": {\"color\": {\"condition\": {\"field\": \"variable\", \"type\": \"nominal\", \"selection\": \"selector008\"}, \"value\": \"lightgray\"}, \"opacity\": {\"condition\": {\"value\": 1, \"selection\": \"selector008\"}, \"value\": 0.4}, \"x\": {\"field\": \"time\", \"type\": \"nominal\"}, \"y\": {\"field\": \"value\", \"title\": \"Change on Measures (%)\", \"type\": \"quantitative\"}}, \"height\": 400, \"selection\": {\"selector008\": {\"type\": \"single\", \"fields\": [\"variable\"], \"init\": {\"variable\": \"Gross domestic product (GDP)\"}, \"bind\": {\"input\": \"select\", \"options\": [\"Gross domestic product (GDP)\", \"Personal consumption expenditures\", \"Gross private domestic investment\", \"Exports\", \"Imports\", \"Government consumption expenditures and gross investment\"], \"name\": \"Select Measures: \"}}}, \"transform\": [{\"filter\": \"(datum.variable !== 'change')\"}], \"width\": 650}, {\"mark\": {\"type\": \"line\", \"color\": \"purple\"}, \"encoding\": {\"x\": {\"field\": \"time\", \"type\": \"nominal\"}, \"y\": {\"axis\": {\"titleColor\": \"purple\"}, \"field\": \"value\", \"scale\": {\"domain\": [-80, 100]}, \"title\": \"Change on Average Weekly Wage (%)\", \"type\": \"quantitative\"}}, \"height\": 400, \"transform\": [{\"filter\": \"(datum.variable === 'change')\"}], \"width\": 650}], \"data\": {\"name\": \"data-1e786eb8e8177e35fa8ec6aba6efceaf\"}, \"resolve\": {\"scale\": {\"color\": \"independent\", \"y\": \"independent\"}}, \"title\": \"Percent Change From Preceding Period on GDP Measures and Average Weekly Wage\", \"$schema\": \"https://vega.github.io/schema/vega-lite/v4.17.0.json\", \"datasets\": {\"data-1e786eb8e8177e35fa8ec6aba6efceaf\": [{\"time\": \"2019Q1\", \"variable\": \"Gross domestic product (GDP)\", \"value\": 2.2}, {\"time\": \"2019Q2\", \"variable\": \"Gross domestic product (GDP)\", \"value\": 2.7}, {\"time\": \"2019Q3\", \"variable\": \"Gross domestic product (GDP)\", \"value\": 3.6}, {\"time\": \"2019Q4\", \"variable\": \"Gross domestic product (GDP)\", \"value\": 1.8}, {\"time\": \"2020Q1\", \"variable\": \"Gross domestic product (GDP)\", \"value\": -4.6}, {\"time\": \"2020Q2\", \"variable\": \"Gross domestic product (GDP)\", \"value\": -29.9}, {\"time\": \"2020Q3\", \"variable\": \"Gross domestic product (GDP)\", \"value\": 35.3}, {\"time\": \"2020Q4\", \"variable\": \"Gross domestic product (GDP)\", \"value\": 3.9}, {\"time\": \"2021Q1\", \"variable\": \"Gross domestic product (GDP)\", \"value\": 6.3}, {\"time\": \"2021Q2\", \"variable\": \"Gross domestic product (GDP)\", \"value\": 7}, {\"time\": \"2021Q3\", \"variable\": \"Gross domestic product (GDP)\", \"value\": 2.7}, {\"time\": \"2021Q4\", \"variable\": \"Gross domestic product (GDP)\", \"value\": 7}, {\"time\": \"2022Q1\", \"variable\": \"Gross domestic product (GDP)\", \"value\": -1.6}, {\"time\": \"2022Q2\", \"variable\": \"Gross domestic product (GDP)\", \"value\": -0.6}, {\"time\": \"2022Q3\", \"variable\": \"Gross domestic product (GDP)\", \"value\": 3.2}, {\"time\": \"2022Q4\", \"variable\": \"Gross domestic product (GDP)\", \"value\": 2.7}, {\"time\": \"2019Q1\", \"variable\": \"Personal consumption expenditures\", \"value\": 0.4}, {\"time\": \"2019Q2\", \"variable\": \"Personal consumption expenditures\", \"value\": 2.6}, {\"time\": \"2019Q3\", \"variable\": \"Personal consumption expenditures\", \"value\": 3.4}, {\"time\": \"2019Q4\", \"variable\": \"Personal consumption expenditures\", \"value\": 2.4}, {\"time\": \"2020Q1\", \"variable\": \"Personal consumption expenditures\", \"value\": -6.2}, {\"time\": \"2020Q2\", \"variable\": \"Personal consumption expenditures\", \"value\": -32.1}, {\"time\": \"2020Q3\", \"variable\": \"Personal consumption expenditures\", \"value\": 43}, {\"time\": \"2020Q4\", \"variable\": \"Personal consumption expenditures\", \"value\": 3.9}, {\"time\": \"2021Q1\", \"variable\": \"Personal consumption expenditures\", \"value\": 10.8}, {\"time\": \"2021Q2\", \"variable\": \"Personal consumption expenditures\", \"value\": 12.1}, {\"time\": \"2021Q3\", \"variable\": \"Personal consumption expenditures\", \"value\": 3}, {\"time\": \"2021Q4\", \"variable\": \"Personal consumption expenditures\", \"value\": 3.1}, {\"time\": \"2022Q1\", \"variable\": \"Personal consumption expenditures\", \"value\": 1.3}, {\"time\": \"2022Q2\", \"variable\": \"Personal consumption expenditures\", \"value\": 2}, {\"time\": \"2022Q3\", \"variable\": \"Personal consumption expenditures\", \"value\": 2.3}, {\"time\": \"2022Q4\", \"variable\": \"Personal consumption expenditures\", \"value\": 1.4}, {\"time\": \"2019Q1\", \"variable\": \"Gross private domestic investment\", \"value\": 4}, {\"time\": \"2019Q2\", \"variable\": \"Gross private domestic investment\", \"value\": 2.4}, {\"time\": \"2019Q3\", \"variable\": \"Gross private domestic investment\", \"value\": 2.6}, {\"time\": \"2019Q4\", \"variable\": \"Gross private domestic investment\", \"value\": -8}, {\"time\": \"2020Q1\", \"variable\": \"Gross private domestic investment\", \"value\": -5.1}, {\"time\": \"2020Q2\", \"variable\": \"Gross private domestic investment\", \"value\": -48.8}, {\"time\": \"2020Q3\", \"variable\": \"Gross private domestic investment\", \"value\": 91.8}, {\"time\": \"2020Q4\", \"variable\": \"Gross private domestic investment\", \"value\": 18}, {\"time\": \"2021Q1\", \"variable\": \"Gross private domestic investment\", \"value\": -5.4}, {\"time\": \"2021Q2\", \"variable\": \"Gross private domestic investment\", \"value\": 0.9}, {\"time\": \"2021Q3\", \"variable\": \"Gross private domestic investment\", \"value\": 10.4}, {\"time\": \"2021Q4\", \"variable\": \"Gross private domestic investment\", \"value\": 32}, {\"time\": \"2022Q1\", \"variable\": \"Gross private domestic investment\", \"value\": 5.4}, {\"time\": \"2022Q2\", \"variable\": \"Gross private domestic investment\", \"value\": -14.1}, {\"time\": \"2022Q3\", \"variable\": \"Gross private domestic investment\", \"value\": -9.6}, {\"time\": \"2022Q4\", \"variable\": \"Gross private domestic investment\", \"value\": 3.7}, {\"time\": \"2019Q1\", \"variable\": \"Exports\", \"value\": 4.8}, {\"time\": \"2019Q2\", \"variable\": \"Exports\", \"value\": -2.3}, {\"time\": \"2019Q3\", \"variable\": \"Exports\", \"value\": 0}, {\"time\": \"2019Q4\", \"variable\": \"Exports\", \"value\": 0.8}, {\"time\": \"2020Q1\", \"variable\": \"Exports\", \"value\": -15.3}, {\"time\": \"2020Q2\", \"variable\": \"Exports\", \"value\": -60.9}, {\"time\": \"2020Q3\", \"variable\": \"Exports\", \"value\": 59.5}, {\"time\": \"2020Q4\", \"variable\": \"Exports\", \"value\": 24.2}, {\"time\": \"2021Q1\", \"variable\": \"Exports\", \"value\": 0.4}, {\"time\": \"2021Q2\", \"variable\": \"Exports\", \"value\": 4.9}, {\"time\": \"2021Q3\", \"variable\": \"Exports\", \"value\": -1.1}, {\"time\": \"2021Q4\", \"variable\": \"Exports\", \"value\": 23.5}, {\"time\": \"2022Q1\", \"variable\": \"Exports\", \"value\": -4.6}, {\"time\": \"2022Q2\", \"variable\": \"Exports\", \"value\": 13.8}, {\"time\": \"2022Q3\", \"variable\": \"Exports\", \"value\": 14.6}, {\"time\": \"2022Q4\", \"variable\": \"Exports\", \"value\": -1.6}, {\"time\": \"2019Q1\", \"variable\": \"Imports\", \"value\": 1.3}, {\"time\": \"2019Q2\", \"variable\": \"Imports\", \"value\": 0.7}, {\"time\": \"2019Q3\", \"variable\": \"Imports\", \"value\": -1.7}, {\"time\": \"2019Q4\", \"variable\": \"Imports\", \"value\": -8}, {\"time\": \"2020Q1\", \"variable\": \"Imports\", \"value\": -12.2}, {\"time\": \"2020Q2\", \"variable\": \"Imports\", \"value\": -53.7}, {\"time\": \"2020Q3\", \"variable\": \"Imports\", \"value\": 88.2}, {\"time\": \"2020Q4\", \"variable\": \"Imports\", \"value\": 32.9}, {\"time\": \"2021Q1\", \"variable\": \"Imports\", \"value\": 7.6}, {\"time\": \"2021Q2\", \"variable\": \"Imports\", \"value\": 7.9}, {\"time\": \"2021Q3\", \"variable\": \"Imports\", \"value\": 6.6}, {\"time\": \"2021Q4\", \"variable\": \"Imports\", \"value\": 18.6}, {\"time\": \"2022Q1\", \"variable\": \"Imports\", \"value\": 18.4}, {\"time\": \"2022Q2\", \"variable\": \"Imports\", \"value\": 2.2}, {\"time\": \"2022Q3\", \"variable\": \"Imports\", \"value\": -7.3}, {\"time\": \"2022Q4\", \"variable\": \"Imports\", \"value\": -4.2}, {\"time\": \"2019Q1\", \"variable\": \"Government consumption expenditures and gross investment\", \"value\": 4.9}, {\"time\": \"2019Q2\", \"variable\": \"Government consumption expenditures and gross investment\", \"value\": 5.3}, {\"time\": \"2019Q3\", \"variable\": \"Government consumption expenditures and gross investment\", \"value\": 3.4}, {\"time\": \"2019Q4\", \"variable\": \"Government consumption expenditures and gross investment\", \"value\": 2.4}, {\"time\": \"2020Q1\", \"variable\": \"Government consumption expenditures and gross investment\", \"value\": 3.3}, {\"time\": \"2020Q2\", \"variable\": \"Government consumption expenditures and gross investment\", \"value\": 7.3}, {\"time\": \"2020Q3\", \"variable\": \"Government consumption expenditures and gross investment\", \"value\": -5.9}, {\"time\": \"2020Q4\", \"variable\": \"Government consumption expenditures and gross investment\", \"value\": -0.1}, {\"time\": \"2021Q1\", \"variable\": \"Government consumption expenditures and gross investment\", \"value\": 6.5}, {\"time\": \"2021Q2\", \"variable\": \"Government consumption expenditures and gross investment\", \"value\": -3}, {\"time\": \"2021Q3\", \"variable\": \"Government consumption expenditures and gross investment\", \"value\": -0.2}, {\"time\": \"2021Q4\", \"variable\": \"Government consumption expenditures and gross investment\", \"value\": -1}, {\"time\": \"2022Q1\", \"variable\": \"Government consumption expenditures and gross investment\", \"value\": -2.3}, {\"time\": \"2022Q2\", \"variable\": \"Government consumption expenditures and gross investment\", \"value\": -1.6}, {\"time\": \"2022Q3\", \"variable\": \"Government consumption expenditures and gross investment\", \"value\": 3.7}, {\"time\": \"2022Q4\", \"variable\": \"Government consumption expenditures and gross investment\", \"value\": 3.6}, {\"time\": \"2019Q1\", \"variable\": \"change\", \"value\": 3.32}, {\"time\": \"2019Q2\", \"variable\": \"change\", \"value\": -7.52}, {\"time\": \"2019Q3\", \"variable\": \"change\", \"value\": -0.18}, {\"time\": \"2019Q4\", \"variable\": \"change\", \"value\": 8.52}, {\"time\": \"2020Q1\", \"variable\": \"change\", \"value\": 3.04}, {\"time\": \"2020Q2\", \"variable\": \"change\", \"value\": -2.7}, {\"time\": \"2020Q3\", \"variable\": \"change\", \"value\": -1.35}, {\"time\": \"2020Q4\", \"variable\": \"change\", \"value\": 14.25}, {\"time\": \"2021Q1\", \"variable\": \"change\", \"value\": -3.81}, {\"time\": \"2021Q2\", \"variable\": \"change\", \"value\": -3.65}, {\"time\": \"2021Q3\", \"variable\": \"change\", \"value\": 0.73}, {\"time\": \"2021Q4\", \"variable\": \"change\", \"value\": 13.44}, {\"time\": \"2022Q1\", \"variable\": \"change\", \"value\": -3.1}, {\"time\": \"2022Q2\", \"variable\": \"change\", \"value\": -5.97}, {\"time\": \"2022Q3\", \"variable\": \"change\", \"value\": 3.25}, {\"time\": \"2022Q4\", \"variable\": \"change\", \"value\": null}]}}, {\"mode\": \"vega-lite\"});\n",
       "</script>"
      ],
      "text/plain": [
       "alt.LayerChart(...)"
      ]
     },
     "execution_count": 56,
     "metadata": {},
     "output_type": "execute_result"
    }
   ],
   "source": [
    "gdp"
   ]
  },
  {
   "cell_type": "code",
   "execution_count": 57,
   "id": "30c9c634",
   "metadata": {},
   "outputs": [
    {
     "data": {
      "text/html": [
       "\n",
       "<div id=\"altair-viz-bec8f8851bc54bd1aa92ec15ebe10136\"></div>\n",
       "<script type=\"text/javascript\">\n",
       "  var VEGA_DEBUG = (typeof VEGA_DEBUG == \"undefined\") ? {} : VEGA_DEBUG;\n",
       "  (function(spec, embedOpt){\n",
       "    let outputDiv = document.currentScript.previousElementSibling;\n",
       "    if (outputDiv.id !== \"altair-viz-bec8f8851bc54bd1aa92ec15ebe10136\") {\n",
       "      outputDiv = document.getElementById(\"altair-viz-bec8f8851bc54bd1aa92ec15ebe10136\");\n",
       "    }\n",
       "    const paths = {\n",
       "      \"vega\": \"https://cdn.jsdelivr.net/npm//vega@5?noext\",\n",
       "      \"vega-lib\": \"https://cdn.jsdelivr.net/npm//vega-lib?noext\",\n",
       "      \"vega-lite\": \"https://cdn.jsdelivr.net/npm//vega-lite@4.17.0?noext\",\n",
       "      \"vega-embed\": \"https://cdn.jsdelivr.net/npm//vega-embed@6?noext\",\n",
       "    };\n",
       "\n",
       "    function maybeLoadScript(lib, version) {\n",
       "      var key = `${lib.replace(\"-\", \"\")}_version`;\n",
       "      return (VEGA_DEBUG[key] == version) ?\n",
       "        Promise.resolve(paths[lib]) :\n",
       "        new Promise(function(resolve, reject) {\n",
       "          var s = document.createElement('script');\n",
       "          document.getElementsByTagName(\"head\")[0].appendChild(s);\n",
       "          s.async = true;\n",
       "          s.onload = () => {\n",
       "            VEGA_DEBUG[key] = version;\n",
       "            return resolve(paths[lib]);\n",
       "          };\n",
       "          s.onerror = () => reject(`Error loading script: ${paths[lib]}`);\n",
       "          s.src = paths[lib];\n",
       "        });\n",
       "    }\n",
       "\n",
       "    function showError(err) {\n",
       "      outputDiv.innerHTML = `<div class=\"error\" style=\"color:red;\">${err}</div>`;\n",
       "      throw err;\n",
       "    }\n",
       "\n",
       "    function displayChart(vegaEmbed) {\n",
       "      vegaEmbed(outputDiv, spec, embedOpt)\n",
       "        .catch(err => showError(`Javascript Error: ${err.message}<br>This usually means there's a typo in your chart specification. See the javascript console for the full traceback.`));\n",
       "    }\n",
       "\n",
       "    if(typeof define === \"function\" && define.amd) {\n",
       "      requirejs.config({paths});\n",
       "      require([\"vega-embed\"], displayChart, err => showError(`Error loading script: ${err.message}`));\n",
       "    } else {\n",
       "      maybeLoadScript(\"vega\", \"5\")\n",
       "        .then(() => maybeLoadScript(\"vega-lite\", \"4.17.0\"))\n",
       "        .then(() => maybeLoadScript(\"vega-embed\", \"6\"))\n",
       "        .catch(showError)\n",
       "        .then(() => displayChart(vegaEmbed));\n",
       "    }\n",
       "  })({\"hconcat\": [{\"layer\": [{\"mark\": \"bar\", \"encoding\": {\"color\": {\"field\": \"type\", \"type\": \"ordinal\"}, \"x\": {\"field\": \"time\", \"type\": \"nominal\"}, \"y\": {\"field\": \"value\", \"title\": \"Durable Goods (%)\", \"type\": \"quantitative\"}}, \"height\": 400, \"selection\": {\"selector012\": {\"type\": \"single\", \"fields\": [\"variable\"], \"init\": {\"variable\": \"Motor vehicles and parts\"}, \"bind\": {\"input\": \"select\", \"options\": [\"Motor vehicles and parts\", \"Furnishings and durable household equipment\", \"Recreational goods and vehicles\", \"Other durable goods\"], \"name\": \"Select durable goods: \"}}}, \"transform\": [{\"filter\": \"((datum.variable !== 'Durable goods') && (datum.variable !== 'change'))\"}, {\"filter\": {\"selection\": \"selector012\"}}], \"width\": 500}, {\"mark\": {\"type\": \"line\", \"color\": \"red\"}, \"encoding\": {\"x\": {\"field\": \"time\", \"type\": \"nominal\"}, \"y\": {\"field\": \"value\", \"type\": \"quantitative\"}}, \"height\": 400, \"transform\": [{\"filter\": \"(datum.variable === 'Durable goods')\"}], \"width\": 500}], \"data\": {\"name\": \"data-0a170539b4c2bef1dc72c4cce91ff9fc\"}, \"title\": \"Durable Goods\"}, {\"layer\": [{\"mark\": \"bar\", \"encoding\": {\"color\": {\"field\": \"type\", \"type\": \"ordinal\"}, \"x\": {\"field\": \"time\", \"type\": \"nominal\"}, \"y\": {\"field\": \"value\", \"title\": \"Nondurable Goods(%)\", \"type\": \"quantitative\"}}, \"height\": 400, \"selection\": {\"selector013\": {\"type\": \"single\", \"fields\": [\"variable\"], \"init\": {\"variable\": \"Food and beverages purchased for off-premises consumption\"}, \"bind\": {\"input\": \"select\", \"options\": [\"Food and beverages purchased for off-premises consumption\", \"Clothing and footwear\", \"Gasoline and other energy goods\", \"Other nondurable goods\"], \"name\": \"Select nondurable goods: \"}}}, \"transform\": [{\"filter\": \"((datum.variable !== 'Nondurable goods') && (datum.variable !== 'change'))\"}, {\"filter\": {\"selection\": \"selector013\"}}], \"width\": 500}, {\"mark\": {\"type\": \"line\", \"color\": \"red\"}, \"encoding\": {\"opacity\": {\"field\": \"line_label\", \"type\": \"nominal\"}, \"x\": {\"field\": \"time\", \"type\": \"nominal\"}, \"y\": {\"field\": \"value\", \"type\": \"quantitative\"}}, \"height\": 400, \"transform\": [{\"filter\": \"(datum.variable === 'Nondurable goods')\"}], \"width\": 500}], \"data\": {\"name\": \"data-dcde035e1d2bb9e5213431287a36abdb\"}, \"title\": \"Nondurable Goods\"}], \"title\": {\"text\": \"Goods' Contributions to Percent Change in Real GDP\", \"anchor\": \"middle\"}, \"$schema\": \"https://vega.github.io/schema/vega-lite/v4.17.0.json\", \"datasets\": {\"data-0a170539b4c2bef1dc72c4cce91ff9fc\": [{\"time\": \"2019Q1\", \"variable\": \"Durable goods\", \"value\": -0.25, \"type\": \"Durable\"}, {\"time\": \"2019Q2\", \"variable\": \"Durable goods\", \"value\": 0.6, \"type\": \"Durable\"}, {\"time\": \"2019Q3\", \"variable\": \"Durable goods\", \"value\": 0.7, \"type\": \"Durable\"}, {\"time\": \"2019Q4\", \"variable\": \"Durable goods\", \"value\": 0.53, \"type\": \"Durable\"}, {\"time\": \"2020Q1\", \"variable\": \"Durable goods\", \"value\": -0.83, \"type\": \"Durable\"}, {\"time\": \"2020Q2\", \"variable\": \"Durable goods\", \"value\": 0.14, \"type\": \"Durable\"}, {\"time\": \"2020Q3\", \"variable\": \"Durable goods\", \"value\": 6.22, \"type\": \"Durable\"}, {\"time\": \"2020Q4\", \"variable\": \"Durable goods\", \"value\": 0.05, \"type\": \"Durable\"}, {\"time\": \"2021Q1\", \"variable\": \"Durable goods\", \"value\": 3.22, \"type\": \"Durable\"}, {\"time\": \"2021Q2\", \"variable\": \"Durable goods\", \"value\": 0.92, \"type\": \"Durable\"}, {\"time\": \"2021Q3\", \"variable\": \"Durable goods\", \"value\": -2.22, \"type\": \"Durable\"}, {\"time\": \"2021Q4\", \"variable\": \"Durable goods\", \"value\": 0.44, \"type\": \"Durable\"}, {\"time\": \"2022Q1\", \"variable\": \"Durable goods\", \"value\": 0.64, \"type\": \"Durable\"}, {\"time\": \"2022Q2\", \"variable\": \"Durable goods\", \"value\": -0.24, \"type\": \"Durable\"}, {\"time\": \"2022Q3\", \"variable\": \"Durable goods\", \"value\": -0.07, \"type\": \"Durable\"}, {\"time\": \"2022Q4\", \"variable\": \"Durable goods\", \"value\": -0.16, \"type\": \"Durable\"}, {\"time\": \"2019Q1\", \"variable\": \"Motor vehicles and parts\", \"value\": -0.41, \"type\": \"Durable\"}, {\"time\": \"2019Q2\", \"variable\": \"Motor vehicles and parts\", \"value\": 0.13, \"type\": \"Durable\"}, {\"time\": \"2019Q3\", \"variable\": \"Motor vehicles and parts\", \"value\": 0.1, \"type\": \"Durable\"}, {\"time\": \"2019Q4\", \"variable\": \"Motor vehicles and parts\", \"value\": 0.21, \"type\": \"Durable\"}, {\"time\": \"2020Q1\", \"variable\": \"Motor vehicles and parts\", \"value\": -0.91, \"type\": \"Durable\"}, {\"time\": \"2020Q2\", \"variable\": \"Motor vehicles and parts\", \"value\": -0.08, \"type\": \"Durable\"}, {\"time\": \"2020Q3\", \"variable\": \"Motor vehicles and parts\", \"value\": 2.07, \"type\": \"Durable\"}, {\"time\": \"2020Q4\", \"variable\": \"Motor vehicles and parts\", \"value\": 0.05, \"type\": \"Durable\"}, {\"time\": \"2021Q1\", \"variable\": \"Motor vehicles and parts\", \"value\": 1.34, \"type\": \"Durable\"}, {\"time\": \"2021Q2\", \"variable\": \"Motor vehicles and parts\", \"value\": 0.38, \"type\": \"Durable\"}, {\"time\": \"2021Q3\", \"variable\": \"Motor vehicles and parts\", \"value\": -2.04, \"type\": \"Durable\"}, {\"time\": \"2021Q4\", \"variable\": \"Motor vehicles and parts\", \"value\": 0.2, \"type\": \"Durable\"}, {\"time\": \"2022Q1\", \"variable\": \"Motor vehicles and parts\", \"value\": 0.42, \"type\": \"Durable\"}, {\"time\": \"2022Q2\", \"variable\": \"Motor vehicles and parts\", \"value\": -0.32, \"type\": \"Durable\"}, {\"time\": \"2022Q3\", \"variable\": \"Motor vehicles and parts\", \"value\": -0.38, \"type\": \"Durable\"}, {\"time\": \"2022Q4\", \"variable\": \"Motor vehicles and parts\", \"value\": 0.1, \"type\": \"Durable\"}, {\"time\": \"2019Q1\", \"variable\": \"Furnishings and durable household equipment\", \"value\": -0.06, \"type\": \"Durable\"}, {\"time\": \"2019Q2\", \"variable\": \"Furnishings and durable household equipment\", \"value\": 0.14, \"type\": \"Durable\"}, {\"time\": \"2019Q3\", \"variable\": \"Furnishings and durable household equipment\", \"value\": 0.18, \"type\": \"Durable\"}, {\"time\": \"2019Q4\", \"variable\": \"Furnishings and durable household equipment\", \"value\": 0.15, \"type\": \"Durable\"}, {\"time\": \"2020Q1\", \"variable\": \"Furnishings and durable household equipment\", \"value\": 0.05, \"type\": \"Durable\"}, {\"time\": \"2020Q2\", \"variable\": \"Furnishings and durable household equipment\", \"value\": 0.09, \"type\": \"Durable\"}, {\"time\": \"2020Q3\", \"variable\": \"Furnishings and durable household equipment\", \"value\": 1.36, \"type\": \"Durable\"}, {\"time\": \"2020Q4\", \"variable\": \"Furnishings and durable household equipment\", \"value\": -0.13, \"type\": \"Durable\"}, {\"time\": \"2021Q1\", \"variable\": \"Furnishings and durable household equipment\", \"value\": 0.73, \"type\": \"Durable\"}, {\"time\": \"2021Q2\", \"variable\": \"Furnishings and durable household equipment\", \"value\": -0.02, \"type\": \"Durable\"}, {\"time\": \"2021Q3\", \"variable\": \"Furnishings and durable household equipment\", \"value\": -0.21, \"type\": \"Durable\"}, {\"time\": \"2021Q4\", \"variable\": \"Furnishings and durable household equipment\", \"value\": -0.13, \"type\": \"Durable\"}, {\"time\": \"2022Q1\", \"variable\": \"Furnishings and durable household equipment\", \"value\": -0.07, \"type\": \"Durable\"}, {\"time\": \"2022Q2\", \"variable\": \"Furnishings and durable household equipment\", \"value\": -0.01, \"type\": \"Durable\"}, {\"time\": \"2022Q3\", \"variable\": \"Furnishings and durable household equipment\", \"value\": 0.05, \"type\": \"Durable\"}, {\"time\": \"2022Q4\", \"variable\": \"Furnishings and durable household equipment\", \"value\": -0.02, \"type\": \"Durable\"}, {\"time\": \"2019Q1\", \"variable\": \"Recreational goods and vehicles\", \"value\": 0.18, \"type\": \"Durable\"}, {\"time\": \"2019Q2\", \"variable\": \"Recreational goods and vehicles\", \"value\": 0.33, \"type\": \"Durable\"}, {\"time\": \"2019Q3\", \"variable\": \"Recreational goods and vehicles\", \"value\": 0.32, \"type\": \"Durable\"}, {\"time\": \"2019Q4\", \"variable\": \"Recreational goods and vehicles\", \"value\": 0.19, \"type\": \"Durable\"}, {\"time\": \"2020Q1\", \"variable\": \"Recreational goods and vehicles\", \"value\": 0.21, \"type\": \"Durable\"}, {\"time\": \"2020Q2\", \"variable\": \"Recreational goods and vehicles\", \"value\": 0.89, \"type\": \"Durable\"}, {\"time\": \"2020Q3\", \"variable\": \"Recreational goods and vehicles\", \"value\": 1.36, \"type\": \"Durable\"}, {\"time\": \"2020Q4\", \"variable\": \"Recreational goods and vehicles\", \"value\": 0.03, \"type\": \"Durable\"}, {\"time\": \"2021Q1\", \"variable\": \"Recreational goods and vehicles\", \"value\": 0.75, \"type\": \"Durable\"}, {\"time\": \"2021Q2\", \"variable\": \"Recreational goods and vehicles\", \"value\": 0.29, \"type\": \"Durable\"}, {\"time\": \"2021Q3\", \"variable\": \"Recreational goods and vehicles\", \"value\": -0.06, \"type\": \"Durable\"}, {\"time\": \"2021Q4\", \"variable\": \"Recreational goods and vehicles\", \"value\": 0.29, \"type\": \"Durable\"}, {\"time\": \"2022Q1\", \"variable\": \"Recreational goods and vehicles\", \"value\": 0.26, \"type\": \"Durable\"}, {\"time\": \"2022Q2\", \"variable\": \"Recreational goods and vehicles\", \"value\": 0.04, \"type\": \"Durable\"}, {\"time\": \"2022Q3\", \"variable\": \"Recreational goods and vehicles\", \"value\": 0.23, \"type\": \"Durable\"}, {\"time\": \"2022Q4\", \"variable\": \"Recreational goods and vehicles\", \"value\": -0.1, \"type\": \"Durable\"}, {\"time\": \"2019Q1\", \"variable\": \"Other durable goods\", \"value\": 0.04, \"type\": \"Durable\"}, {\"time\": \"2019Q2\", \"variable\": \"Other durable goods\", \"value\": 0.01, \"type\": \"Durable\"}, {\"time\": \"2019Q3\", \"variable\": \"Other durable goods\", \"value\": 0.1, \"type\": \"Durable\"}, {\"time\": \"2019Q4\", \"variable\": \"Other durable goods\", \"value\": -0.03, \"type\": \"Durable\"}, {\"time\": \"2020Q1\", \"variable\": \"Other durable goods\", \"value\": -0.18, \"type\": \"Durable\"}, {\"time\": \"2020Q2\", \"variable\": \"Other durable goods\", \"value\": -0.76, \"type\": \"Durable\"}, {\"time\": \"2020Q3\", \"variable\": \"Other durable goods\", \"value\": 1.44, \"type\": \"Durable\"}, {\"time\": \"2020Q4\", \"variable\": \"Other durable goods\", \"value\": 0.09, \"type\": \"Durable\"}, {\"time\": \"2021Q1\", \"variable\": \"Other durable goods\", \"value\": 0.4, \"type\": \"Durable\"}, {\"time\": \"2021Q2\", \"variable\": \"Other durable goods\", \"value\": 0.27, \"type\": \"Durable\"}, {\"time\": \"2021Q3\", \"variable\": \"Other durable goods\", \"value\": 0.09, \"type\": \"Durable\"}, {\"time\": \"2021Q4\", \"variable\": \"Other durable goods\", \"value\": 0.07, \"type\": \"Durable\"}, {\"time\": \"2022Q1\", \"variable\": \"Other durable goods\", \"value\": 0.03, \"type\": \"Durable\"}, {\"time\": \"2022Q2\", \"variable\": \"Other durable goods\", \"value\": 0.05, \"type\": \"Durable\"}, {\"time\": \"2022Q3\", \"variable\": \"Other durable goods\", \"value\": 0.02, \"type\": \"Durable\"}, {\"time\": \"2022Q4\", \"variable\": \"Other durable goods\", \"value\": -0.14, \"type\": \"Durable\"}, {\"time\": \"2019Q1\", \"variable\": \"change\", \"value\": 3.32, \"type\": \"Wage\"}, {\"time\": \"2019Q2\", \"variable\": \"change\", \"value\": -7.52, \"type\": \"Wage\"}, {\"time\": \"2019Q3\", \"variable\": \"change\", \"value\": -0.18, \"type\": \"Wage\"}, {\"time\": \"2019Q4\", \"variable\": \"change\", \"value\": 8.52, \"type\": \"Wage\"}, {\"time\": \"2020Q1\", \"variable\": \"change\", \"value\": 3.04, \"type\": \"Wage\"}, {\"time\": \"2020Q2\", \"variable\": \"change\", \"value\": -2.7, \"type\": \"Wage\"}, {\"time\": \"2020Q3\", \"variable\": \"change\", \"value\": -1.35, \"type\": \"Wage\"}, {\"time\": \"2020Q4\", \"variable\": \"change\", \"value\": 14.25, \"type\": \"Wage\"}, {\"time\": \"2021Q1\", \"variable\": \"change\", \"value\": -3.81, \"type\": \"Wage\"}, {\"time\": \"2021Q2\", \"variable\": \"change\", \"value\": -3.65, \"type\": \"Wage\"}, {\"time\": \"2021Q3\", \"variable\": \"change\", \"value\": 0.73, \"type\": \"Wage\"}, {\"time\": \"2021Q4\", \"variable\": \"change\", \"value\": 13.44, \"type\": \"Wage\"}, {\"time\": \"2022Q1\", \"variable\": \"change\", \"value\": -3.1, \"type\": \"Wage\"}, {\"time\": \"2022Q2\", \"variable\": \"change\", \"value\": -5.97, \"type\": \"Wage\"}, {\"time\": \"2022Q3\", \"variable\": \"change\", \"value\": 3.25, \"type\": \"Wage\"}, {\"time\": \"2022Q4\", \"variable\": \"change\", \"value\": null, \"type\": \"Wage\"}], \"data-dcde035e1d2bb9e5213431287a36abdb\": [{\"time\": \"2019Q1\", \"variable\": \"Nondurable goods\", \"value\": 0.25, \"type\": \"Nondurable\", \"line_label\": \"overall contribution\"}, {\"time\": \"2019Q2\", \"variable\": \"Nondurable goods\", \"value\": 0.51, \"type\": \"Nondurable\", \"line_label\": \"overall contribution\"}, {\"time\": \"2019Q3\", \"variable\": \"Nondurable goods\", \"value\": 0.48, \"type\": \"Nondurable\", \"line_label\": \"overall contribution\"}, {\"time\": \"2019Q4\", \"variable\": \"Nondurable goods\", \"value\": 0.04, \"type\": \"Nondurable\", \"line_label\": \"overall contribution\"}, {\"time\": \"2020Q1\", \"variable\": \"Nondurable goods\", \"value\": 0.81, \"type\": \"Nondurable\", \"line_label\": \"overall contribution\"}, {\"time\": \"2020Q2\", \"variable\": \"Nondurable goods\", \"value\": -2.21, \"type\": \"Nondurable\", \"line_label\": \"overall contribution\"}, {\"time\": \"2020Q3\", \"variable\": \"Nondurable goods\", \"value\": 4.63, \"type\": \"Nondurable\", \"line_label\": \"overall contribution\"}, {\"time\": \"2020Q4\", \"variable\": \"Nondurable goods\", \"value\": 0.02, \"type\": \"Nondurable\", \"line_label\": \"overall contribution\"}, {\"time\": \"2021Q1\", \"variable\": \"Nondurable goods\", \"value\": 2.05, \"type\": \"Nondurable\", \"line_label\": \"overall contribution\"}, {\"time\": \"2021Q2\", \"variable\": \"Nondurable goods\", \"value\": 1.74, \"type\": \"Nondurable\", \"line_label\": \"overall contribution\"}, {\"time\": \"2021Q3\", \"variable\": \"Nondurable goods\", \"value\": 0.26, \"type\": \"Nondurable\", \"line_label\": \"overall contribution\"}, {\"time\": \"2021Q4\", \"variable\": \"Nondurable goods\", \"value\": 0.12, \"type\": \"Nondurable\", \"line_label\": \"overall contribution\"}, {\"time\": \"2022Q1\", \"variable\": \"Nondurable goods\", \"value\": -0.66, \"type\": \"Nondurable\", \"line_label\": \"overall contribution\"}, {\"time\": \"2022Q2\", \"variable\": \"Nondurable goods\", \"value\": -0.37, \"type\": \"Nondurable\", \"line_label\": \"overall contribution\"}, {\"time\": \"2022Q3\", \"variable\": \"Nondurable goods\", \"value\": -0.01, \"type\": \"Nondurable\", \"line_label\": \"overall contribution\"}, {\"time\": \"2022Q4\", \"variable\": \"Nondurable goods\", \"value\": 0.03, \"type\": \"Nondurable\", \"line_label\": \"overall contribution\"}, {\"time\": \"2019Q1\", \"variable\": \"Food and beverages purchased for off-premises consumption\", \"value\": -0.06, \"type\": \"Nondurable\", \"line_label\": \"overall contribution\"}, {\"time\": \"2019Q2\", \"variable\": \"Food and beverages purchased for off-premises consumption\", \"value\": 0.23, \"type\": \"Nondurable\", \"line_label\": \"overall contribution\"}, {\"time\": \"2019Q3\", \"variable\": \"Food and beverages purchased for off-premises consumption\", \"value\": 0.24, \"type\": \"Nondurable\", \"line_label\": \"overall contribution\"}, {\"time\": \"2019Q4\", \"variable\": \"Food and beverages purchased for off-premises consumption\", \"value\": -0.06, \"type\": \"Nondurable\", \"line_label\": \"overall contribution\"}, {\"time\": \"2020Q1\", \"variable\": \"Food and beverages purchased for off-premises consumption\", \"value\": 1.18, \"type\": \"Nondurable\", \"line_label\": \"overall contribution\"}, {\"time\": \"2020Q2\", \"variable\": \"Food and beverages purchased for off-premises consumption\", \"value\": -0.33, \"type\": \"Nondurable\", \"line_label\": \"overall contribution\"}, {\"time\": \"2020Q3\", \"variable\": \"Food and beverages purchased for off-premises consumption\", \"value\": 0.16, \"type\": \"Nondurable\", \"line_label\": \"overall contribution\"}, {\"time\": \"2020Q4\", \"variable\": \"Food and beverages purchased for off-premises consumption\", \"value\": -0.08, \"type\": \"Nondurable\", \"line_label\": \"overall contribution\"}, {\"time\": \"2021Q1\", \"variable\": \"Food and beverages purchased for off-premises consumption\", \"value\": 0.79, \"type\": \"Nondurable\", \"line_label\": \"overall contribution\"}, {\"time\": \"2021Q2\", \"variable\": \"Food and beverages purchased for off-premises consumption\", \"value\": 0.13, \"type\": \"Nondurable\", \"line_label\": \"overall contribution\"}, {\"time\": \"2021Q3\", \"variable\": \"Food and beverages purchased for off-premises consumption\", \"value\": -0.06, \"type\": \"Nondurable\", \"line_label\": \"overall contribution\"}, {\"time\": \"2021Q4\", \"variable\": \"Food and beverages purchased for off-premises consumption\", \"value\": 0.03, \"type\": \"Nondurable\", \"line_label\": \"overall contribution\"}, {\"time\": \"2022Q1\", \"variable\": \"Food and beverages purchased for off-premises consumption\", \"value\": -0.39, \"type\": \"Nondurable\", \"line_label\": \"overall contribution\"}, {\"time\": \"2022Q2\", \"variable\": \"Food and beverages purchased for off-premises consumption\", \"value\": -0.52, \"type\": \"Nondurable\", \"line_label\": \"overall contribution\"}, {\"time\": \"2022Q3\", \"variable\": \"Food and beverages purchased for off-premises consumption\", \"value\": -0.15, \"type\": \"Nondurable\", \"line_label\": \"overall contribution\"}, {\"time\": \"2022Q4\", \"variable\": \"Food and beverages purchased for off-premises consumption\", \"value\": -0.01, \"type\": \"Nondurable\", \"line_label\": \"overall contribution\"}, {\"time\": \"2019Q1\", \"variable\": \"Clothing and footwear\", \"value\": 0.03, \"type\": \"Nondurable\", \"line_label\": \"overall contribution\"}, {\"time\": \"2019Q2\", \"variable\": \"Clothing and footwear\", \"value\": 0.06, \"type\": \"Nondurable\", \"line_label\": \"overall contribution\"}, {\"time\": \"2019Q3\", \"variable\": \"Clothing and footwear\", \"value\": 0.04, \"type\": \"Nondurable\", \"line_label\": \"overall contribution\"}, {\"time\": \"2019Q4\", \"variable\": \"Clothing and footwear\", \"value\": 0.11, \"type\": \"Nondurable\", \"line_label\": \"overall contribution\"}, {\"time\": \"2020Q1\", \"variable\": \"Clothing and footwear\", \"value\": -0.65, \"type\": \"Nondurable\", \"line_label\": \"overall contribution\"}, {\"time\": \"2020Q2\", \"variable\": \"Clothing and footwear\", \"value\": -1.02, \"type\": \"Nondurable\", \"line_label\": \"overall contribution\"}, {\"time\": \"2020Q3\", \"variable\": \"Clothing and footwear\", \"value\": 2.12, \"type\": \"Nondurable\", \"line_label\": \"overall contribution\"}, {\"time\": \"2020Q4\", \"variable\": \"Clothing and footwear\", \"value\": 0.08, \"type\": \"Nondurable\", \"line_label\": \"overall contribution\"}, {\"time\": \"2021Q1\", \"variable\": \"Clothing and footwear\", \"value\": 0.61, \"type\": \"Nondurable\", \"line_label\": \"overall contribution\"}, {\"time\": \"2021Q2\", \"variable\": \"Clothing and footwear\", \"value\": 0.52, \"type\": \"Nondurable\", \"line_label\": \"overall contribution\"}, {\"time\": \"2021Q3\", \"variable\": \"Clothing and footwear\", \"value\": 0, \"type\": \"Nondurable\", \"line_label\": \"overall contribution\"}, {\"time\": \"2021Q4\", \"variable\": \"Clothing and footwear\", \"value\": -0.07, \"type\": \"Nondurable\", \"line_label\": \"overall contribution\"}, {\"time\": \"2022Q1\", \"variable\": \"Clothing and footwear\", \"value\": -0.09, \"type\": \"Nondurable\", \"line_label\": \"overall contribution\"}, {\"time\": \"2022Q2\", \"variable\": \"Clothing and footwear\", \"value\": 0.08, \"type\": \"Nondurable\", \"line_label\": \"overall contribution\"}, {\"time\": \"2022Q3\", \"variable\": \"Clothing and footwear\", \"value\": 0.11, \"type\": \"Nondurable\", \"line_label\": \"overall contribution\"}, {\"time\": \"2022Q4\", \"variable\": \"Clothing and footwear\", \"value\": 0, \"type\": \"Nondurable\", \"line_label\": \"overall contribution\"}, {\"time\": \"2019Q1\", \"variable\": \"Gasoline and other energy goods\", \"value\": 0.01, \"type\": \"Nondurable\", \"line_label\": \"overall contribution\"}, {\"time\": \"2019Q2\", \"variable\": \"Gasoline and other energy goods\", \"value\": -0.01, \"type\": \"Nondurable\", \"line_label\": \"overall contribution\"}, {\"time\": \"2019Q3\", \"variable\": \"Gasoline and other energy goods\", \"value\": -0.04, \"type\": \"Nondurable\", \"line_label\": \"overall contribution\"}, {\"time\": \"2019Q4\", \"variable\": \"Gasoline and other energy goods\", \"value\": -0.06, \"type\": \"Nondurable\", \"line_label\": \"overall contribution\"}, {\"time\": \"2020Q1\", \"variable\": \"Gasoline and other energy goods\", \"value\": -0.32, \"type\": \"Nondurable\", \"line_label\": \"overall contribution\"}, {\"time\": \"2020Q2\", \"variable\": \"Gasoline and other energy goods\", \"value\": -0.89, \"type\": \"Nondurable\", \"line_label\": \"overall contribution\"}, {\"time\": \"2020Q3\", \"variable\": \"Gasoline and other energy goods\", \"value\": 0.75, \"type\": \"Nondurable\", \"line_label\": \"overall contribution\"}, {\"time\": \"2020Q4\", \"variable\": \"Gasoline and other energy goods\", \"value\": -0.12, \"type\": \"Nondurable\", \"line_label\": \"overall contribution\"}, {\"time\": \"2021Q1\", \"variable\": \"Gasoline and other energy goods\", \"value\": 0.14, \"type\": \"Nondurable\", \"line_label\": \"overall contribution\"}, {\"time\": \"2021Q2\", \"variable\": \"Gasoline and other energy goods\", \"value\": 0.48, \"type\": \"Nondurable\", \"line_label\": \"overall contribution\"}, {\"time\": \"2021Q3\", \"variable\": \"Gasoline and other energy goods\", \"value\": 0.16, \"type\": \"Nondurable\", \"line_label\": \"overall contribution\"}, {\"time\": \"2021Q4\", \"variable\": \"Gasoline and other energy goods\", \"value\": 0.07, \"type\": \"Nondurable\", \"line_label\": \"overall contribution\"}, {\"time\": \"2022Q1\", \"variable\": \"Gasoline and other energy goods\", \"value\": -0.19, \"type\": \"Nondurable\", \"line_label\": \"overall contribution\"}, {\"time\": \"2022Q2\", \"variable\": \"Gasoline and other energy goods\", \"value\": -0.05, \"type\": \"Nondurable\", \"line_label\": \"overall contribution\"}, {\"time\": \"2022Q3\", \"variable\": \"Gasoline and other energy goods\", \"value\": -0.06, \"type\": \"Nondurable\", \"line_label\": \"overall contribution\"}, {\"time\": \"2022Q4\", \"variable\": \"Gasoline and other energy goods\", \"value\": 0.02, \"type\": \"Nondurable\", \"line_label\": \"overall contribution\"}, {\"time\": \"2019Q1\", \"variable\": \"Other nondurable goods\", \"value\": 0.26, \"type\": \"Nondurable\", \"line_label\": \"overall contribution\"}, {\"time\": \"2019Q2\", \"variable\": \"Other nondurable goods\", \"value\": 0.23, \"type\": \"Nondurable\", \"line_label\": \"overall contribution\"}, {\"time\": \"2019Q3\", \"variable\": \"Other nondurable goods\", \"value\": 0.24, \"type\": \"Nondurable\", \"line_label\": \"overall contribution\"}, {\"time\": \"2019Q4\", \"variable\": \"Other nondurable goods\", \"value\": 0.04, \"type\": \"Nondurable\", \"line_label\": \"overall contribution\"}, {\"time\": \"2020Q1\", \"variable\": \"Other nondurable goods\", \"value\": 0.6, \"type\": \"Nondurable\", \"line_label\": \"overall contribution\"}, {\"time\": \"2020Q2\", \"variable\": \"Other nondurable goods\", \"value\": 0.03, \"type\": \"Nondurable\", \"line_label\": \"overall contribution\"}, {\"time\": \"2020Q3\", \"variable\": \"Other nondurable goods\", \"value\": 1.59, \"type\": \"Nondurable\", \"line_label\": \"overall contribution\"}, {\"time\": \"2020Q4\", \"variable\": \"Other nondurable goods\", \"value\": 0.14, \"type\": \"Nondurable\", \"line_label\": \"overall contribution\"}, {\"time\": \"2021Q1\", \"variable\": \"Other nondurable goods\", \"value\": 0.5, \"type\": \"Nondurable\", \"line_label\": \"overall contribution\"}, {\"time\": \"2021Q2\", \"variable\": \"Other nondurable goods\", \"value\": 0.61, \"type\": \"Nondurable\", \"line_label\": \"overall contribution\"}, {\"time\": \"2021Q3\", \"variable\": \"Other nondurable goods\", \"value\": 0.15, \"type\": \"Nondurable\", \"line_label\": \"overall contribution\"}, {\"time\": \"2021Q4\", \"variable\": \"Other nondurable goods\", \"value\": 0.09, \"type\": \"Nondurable\", \"line_label\": \"overall contribution\"}, {\"time\": \"2022Q1\", \"variable\": \"Other nondurable goods\", \"value\": 0.02, \"type\": \"Nondurable\", \"line_label\": \"overall contribution\"}, {\"time\": \"2022Q2\", \"variable\": \"Other nondurable goods\", \"value\": 0.12, \"type\": \"Nondurable\", \"line_label\": \"overall contribution\"}, {\"time\": \"2022Q3\", \"variable\": \"Other nondurable goods\", \"value\": 0.08, \"type\": \"Nondurable\", \"line_label\": \"overall contribution\"}, {\"time\": \"2022Q4\", \"variable\": \"Other nondurable goods\", \"value\": 0.03, \"type\": \"Nondurable\", \"line_label\": \"overall contribution\"}, {\"time\": \"2019Q1\", \"variable\": \"change\", \"value\": 3.32, \"type\": \"Wage\", \"line_label\": \"overall contribution\"}, {\"time\": \"2019Q2\", \"variable\": \"change\", \"value\": -7.52, \"type\": \"Wage\", \"line_label\": \"overall contribution\"}, {\"time\": \"2019Q3\", \"variable\": \"change\", \"value\": -0.18, \"type\": \"Wage\", \"line_label\": \"overall contribution\"}, {\"time\": \"2019Q4\", \"variable\": \"change\", \"value\": 8.52, \"type\": \"Wage\", \"line_label\": \"overall contribution\"}, {\"time\": \"2020Q1\", \"variable\": \"change\", \"value\": 3.04, \"type\": \"Wage\", \"line_label\": \"overall contribution\"}, {\"time\": \"2020Q2\", \"variable\": \"change\", \"value\": -2.7, \"type\": \"Wage\", \"line_label\": \"overall contribution\"}, {\"time\": \"2020Q3\", \"variable\": \"change\", \"value\": -1.35, \"type\": \"Wage\", \"line_label\": \"overall contribution\"}, {\"time\": \"2020Q4\", \"variable\": \"change\", \"value\": 14.25, \"type\": \"Wage\", \"line_label\": \"overall contribution\"}, {\"time\": \"2021Q1\", \"variable\": \"change\", \"value\": -3.81, \"type\": \"Wage\", \"line_label\": \"overall contribution\"}, {\"time\": \"2021Q2\", \"variable\": \"change\", \"value\": -3.65, \"type\": \"Wage\", \"line_label\": \"overall contribution\"}, {\"time\": \"2021Q3\", \"variable\": \"change\", \"value\": 0.73, \"type\": \"Wage\", \"line_label\": \"overall contribution\"}, {\"time\": \"2021Q4\", \"variable\": \"change\", \"value\": 13.44, \"type\": \"Wage\", \"line_label\": \"overall contribution\"}, {\"time\": \"2022Q1\", \"variable\": \"change\", \"value\": -3.1, \"type\": \"Wage\", \"line_label\": \"overall contribution\"}, {\"time\": \"2022Q2\", \"variable\": \"change\", \"value\": -5.97, \"type\": \"Wage\", \"line_label\": \"overall contribution\"}, {\"time\": \"2022Q3\", \"variable\": \"change\", \"value\": 3.25, \"type\": \"Wage\", \"line_label\": \"overall contribution\"}, {\"time\": \"2022Q4\", \"variable\": \"change\", \"value\": null, \"type\": \"Wage\", \"line_label\": \"overall contribution\"}]}}, {\"mode\": \"vega-lite\"});\n",
       "</script>"
      ],
      "text/plain": [
       "alt.HConcatChart(...)"
      ]
     },
     "execution_count": 57,
     "metadata": {},
     "output_type": "execute_result"
    }
   ],
   "source": [
    "# goods\n",
    "st.write(\"To further investigate the influence on personal consumption expenditures, we visualize the contributions of goods and services to percent change in real GDP.\")\n",
    "st.write(\"The line in each plot shows the overall contributions, while the users could look at the specific contribution of a particular good or service through the bar plot by using the dropdown selection.\")\n",
    "goods"
   ]
  },
  {
   "cell_type": "code",
   "execution_count": 58,
   "id": "74c4cb8d",
   "metadata": {},
   "outputs": [
    {
     "data": {
      "text/html": [
       "\n",
       "<div id=\"altair-viz-596f0d619a784ca3a4e1a98864b0a01b\"></div>\n",
       "<script type=\"text/javascript\">\n",
       "  var VEGA_DEBUG = (typeof VEGA_DEBUG == \"undefined\") ? {} : VEGA_DEBUG;\n",
       "  (function(spec, embedOpt){\n",
       "    let outputDiv = document.currentScript.previousElementSibling;\n",
       "    if (outputDiv.id !== \"altair-viz-596f0d619a784ca3a4e1a98864b0a01b\") {\n",
       "      outputDiv = document.getElementById(\"altair-viz-596f0d619a784ca3a4e1a98864b0a01b\");\n",
       "    }\n",
       "    const paths = {\n",
       "      \"vega\": \"https://cdn.jsdelivr.net/npm//vega@5?noext\",\n",
       "      \"vega-lib\": \"https://cdn.jsdelivr.net/npm//vega-lib?noext\",\n",
       "      \"vega-lite\": \"https://cdn.jsdelivr.net/npm//vega-lite@4.17.0?noext\",\n",
       "      \"vega-embed\": \"https://cdn.jsdelivr.net/npm//vega-embed@6?noext\",\n",
       "    };\n",
       "\n",
       "    function maybeLoadScript(lib, version) {\n",
       "      var key = `${lib.replace(\"-\", \"\")}_version`;\n",
       "      return (VEGA_DEBUG[key] == version) ?\n",
       "        Promise.resolve(paths[lib]) :\n",
       "        new Promise(function(resolve, reject) {\n",
       "          var s = document.createElement('script');\n",
       "          document.getElementsByTagName(\"head\")[0].appendChild(s);\n",
       "          s.async = true;\n",
       "          s.onload = () => {\n",
       "            VEGA_DEBUG[key] = version;\n",
       "            return resolve(paths[lib]);\n",
       "          };\n",
       "          s.onerror = () => reject(`Error loading script: ${paths[lib]}`);\n",
       "          s.src = paths[lib];\n",
       "        });\n",
       "    }\n",
       "\n",
       "    function showError(err) {\n",
       "      outputDiv.innerHTML = `<div class=\"error\" style=\"color:red;\">${err}</div>`;\n",
       "      throw err;\n",
       "    }\n",
       "\n",
       "    function displayChart(vegaEmbed) {\n",
       "      vegaEmbed(outputDiv, spec, embedOpt)\n",
       "        .catch(err => showError(`Javascript Error: ${err.message}<br>This usually means there's a typo in your chart specification. See the javascript console for the full traceback.`));\n",
       "    }\n",
       "\n",
       "    if(typeof define === \"function\" && define.amd) {\n",
       "      requirejs.config({paths});\n",
       "      require([\"vega-embed\"], displayChart, err => showError(`Error loading script: ${err.message}`));\n",
       "    } else {\n",
       "      maybeLoadScript(\"vega\", \"5\")\n",
       "        .then(() => maybeLoadScript(\"vega-lite\", \"4.17.0\"))\n",
       "        .then(() => maybeLoadScript(\"vega-embed\", \"6\"))\n",
       "        .catch(showError)\n",
       "        .then(() => displayChart(vegaEmbed));\n",
       "    }\n",
       "  })({\"layer\": [{\"mark\": \"bar\", \"encoding\": {\"x\": {\"field\": \"time\", \"type\": \"nominal\"}, \"y\": {\"field\": \"value\", \"title\": \"Household consumption expenditures (for services)(%)\", \"type\": \"quantitative\"}}, \"height\": 400, \"selection\": {\"selector014\": {\"type\": \"single\", \"fields\": [\"variable\"], \"init\": {\"variable\": \"Housing and utilities\"}, \"bind\": {\"input\": \"select\", \"options\": [\"Housing and utilities\", \"Health care\", \"Transportation services\", \"Recreation services\", \"Food services and accommodations\", \"Financial services and insurance\", \"Other services\"], \"name\": \"Select services: \"}}}, \"transform\": [{\"filter\": \"((datum.variable !== 'Household consumption expenditures (for services)') && (datum.variable !== 'change'))\"}, {\"filter\": {\"selection\": \"selector014\"}}], \"width\": 500}, {\"mark\": {\"type\": \"line\", \"color\": \"red\"}, \"encoding\": {\"opacity\": {\"field\": \"line_label\", \"type\": \"nominal\"}, \"x\": {\"field\": \"time\", \"type\": \"nominal\"}, \"y\": {\"field\": \"value\", \"scale\": {\"domain\": [-25, 25]}, \"type\": \"quantitative\"}}, \"height\": 400, \"title\": \"Services' Contributions to Percent Change in Real GDP\", \"transform\": [{\"filter\": \"(datum.variable === 'Household consumption expenditures (for services)')\"}], \"width\": 500}], \"data\": {\"name\": \"data-6a2efc023da69395e82399c590779c58\"}, \"$schema\": \"https://vega.github.io/schema/vega-lite/v4.17.0.json\", \"datasets\": {\"data-6a2efc023da69395e82399c590779c58\": [{\"time\": \"2019Q1\", \"variable\": \"Household consumption expenditures (for services)\", \"value\": 0.88, \"line_label\": \"overall contribution\"}, {\"time\": \"2019Q2\", \"variable\": \"Household consumption expenditures (for services)\", \"value\": 0.6, \"line_label\": \"overall contribution\"}, {\"time\": \"2019Q3\", \"variable\": \"Household consumption expenditures (for services)\", \"value\": 1.17, \"line_label\": \"overall contribution\"}, {\"time\": \"2019Q4\", \"variable\": \"Household consumption expenditures (for services)\", \"value\": 1.04, \"line_label\": \"overall contribution\"}, {\"time\": \"2020Q1\", \"variable\": \"Household consumption expenditures (for services)\", \"value\": -5.44, \"line_label\": \"overall contribution\"}, {\"time\": \"2020Q2\", \"variable\": \"Household consumption expenditures (for services)\", \"value\": -22, \"line_label\": \"overall contribution\"}, {\"time\": \"2020Q3\", \"variable\": \"Household consumption expenditures (for services)\", \"value\": 17, \"line_label\": \"overall contribution\"}, {\"time\": \"2020Q4\", \"variable\": \"Household consumption expenditures (for services)\", \"value\": 2.64, \"line_label\": \"overall contribution\"}, {\"time\": \"2021Q1\", \"variable\": \"Household consumption expenditures (for services)\", \"value\": 2.09, \"line_label\": \"overall contribution\"}, {\"time\": \"2021Q2\", \"variable\": \"Household consumption expenditures (for services)\", \"value\": 5.73, \"line_label\": \"overall contribution\"}, {\"time\": \"2021Q3\", \"variable\": \"Household consumption expenditures (for services)\", \"value\": 3.96, \"line_label\": \"overall contribution\"}, {\"time\": \"2021Q4\", \"variable\": \"Household consumption expenditures (for services)\", \"value\": 1.49, \"line_label\": \"overall contribution\"}, {\"time\": \"2022Q1\", \"variable\": \"Household consumption expenditures (for services)\", \"value\": 0.73, \"line_label\": \"overall contribution\"}, {\"time\": \"2022Q2\", \"variable\": \"Household consumption expenditures (for services)\", \"value\": 1.82, \"line_label\": \"overall contribution\"}, {\"time\": \"2022Q3\", \"variable\": \"Household consumption expenditures (for services)\", \"value\": 1.63, \"line_label\": \"overall contribution\"}, {\"time\": \"2022Q4\", \"variable\": \"Household consumption expenditures (for services)\", \"value\": 1.15, \"line_label\": \"overall contribution\"}, {\"time\": \"2019Q1\", \"variable\": \"Housing and utilities\", \"value\": 0.01, \"line_label\": \"overall contribution\"}, {\"time\": \"2019Q2\", \"variable\": \"Housing and utilities\", \"value\": -0.05, \"line_label\": \"overall contribution\"}, {\"time\": \"2019Q3\", \"variable\": \"Housing and utilities\", \"value\": 0.27, \"line_label\": \"overall contribution\"}, {\"time\": \"2019Q4\", \"variable\": \"Housing and utilities\", \"value\": 0.12, \"line_label\": \"overall contribution\"}, {\"time\": \"2020Q1\", \"variable\": \"Housing and utilities\", \"value\": -0.21, \"line_label\": \"overall contribution\"}, {\"time\": \"2020Q2\", \"variable\": \"Housing and utilities\", \"value\": 0.55, \"line_label\": \"overall contribution\"}, {\"time\": \"2020Q3\", \"variable\": \"Housing and utilities\", \"value\": 0.11, \"line_label\": \"overall contribution\"}, {\"time\": \"2020Q4\", \"variable\": \"Housing and utilities\", \"value\": 0.07, \"line_label\": \"overall contribution\"}, {\"time\": \"2021Q1\", \"variable\": \"Housing and utilities\", \"value\": 0.22, \"line_label\": \"overall contribution\"}, {\"time\": \"2021Q2\", \"variable\": \"Housing and utilities\", \"value\": 0.03, \"line_label\": \"overall contribution\"}, {\"time\": \"2021Q3\", \"variable\": \"Housing and utilities\", \"value\": 0.18, \"line_label\": \"overall contribution\"}, {\"time\": \"2021Q4\", \"variable\": \"Housing and utilities\", \"value\": -0.06, \"line_label\": \"overall contribution\"}, {\"time\": \"2022Q1\", \"variable\": \"Housing and utilities\", \"value\": 0.36, \"line_label\": \"overall contribution\"}, {\"time\": \"2022Q2\", \"variable\": \"Housing and utilities\", \"value\": 0.1, \"line_label\": \"overall contribution\"}, {\"time\": \"2022Q3\", \"variable\": \"Housing and utilities\", \"value\": -0.03, \"line_label\": \"overall contribution\"}, {\"time\": \"2022Q4\", \"variable\": \"Housing and utilities\", \"value\": 0.21, \"line_label\": \"overall contribution\"}, {\"time\": \"2019Q1\", \"variable\": \"Health care\", \"value\": 0.81, \"line_label\": \"overall contribution\"}, {\"time\": \"2019Q2\", \"variable\": \"Health care\", \"value\": 0.56, \"line_label\": \"overall contribution\"}, {\"time\": \"2019Q3\", \"variable\": \"Health care\", \"value\": 0.16, \"line_label\": \"overall contribution\"}, {\"time\": \"2019Q4\", \"variable\": \"Health care\", \"value\": 0.45, \"line_label\": \"overall contribution\"}, {\"time\": \"2020Q1\", \"variable\": \"Health care\", \"value\": -1.74, \"line_label\": \"overall contribution\"}, {\"time\": \"2020Q2\", \"variable\": \"Health care\", \"value\": -7.27, \"line_label\": \"overall contribution\"}, {\"time\": \"2020Q3\", \"variable\": \"Health care\", \"value\": 6.99, \"line_label\": \"overall contribution\"}, {\"time\": \"2020Q4\", \"variable\": \"Health care\", \"value\": 1.43, \"line_label\": \"overall contribution\"}, {\"time\": \"2021Q1\", \"variable\": \"Health care\", \"value\": -0.37, \"line_label\": \"overall contribution\"}, {\"time\": \"2021Q2\", \"variable\": \"Health care\", \"value\": 1.19, \"line_label\": \"overall contribution\"}, {\"time\": \"2021Q3\", \"variable\": \"Health care\", \"value\": 0.57, \"line_label\": \"overall contribution\"}, {\"time\": \"2021Q4\", \"variable\": \"Health care\", \"value\": 0.42, \"line_label\": \"overall contribution\"}, {\"time\": \"2022Q1\", \"variable\": \"Health care\", \"value\": -0.05, \"line_label\": \"overall contribution\"}, {\"time\": \"2022Q2\", \"variable\": \"Health care\", \"value\": 0.05, \"line_label\": \"overall contribution\"}, {\"time\": \"2022Q3\", \"variable\": \"Health care\", \"value\": 0.58, \"line_label\": \"overall contribution\"}, {\"time\": \"2022Q4\", \"variable\": \"Health care\", \"value\": 0.62, \"line_label\": \"overall contribution\"}, {\"time\": \"2019Q1\", \"variable\": \"Transportation services\", \"value\": 0.08, \"line_label\": \"overall contribution\"}, {\"time\": \"2019Q2\", \"variable\": \"Transportation services\", \"value\": 0.21, \"line_label\": \"overall contribution\"}, {\"time\": \"2019Q3\", \"variable\": \"Transportation services\", \"value\": 0.19, \"line_label\": \"overall contribution\"}, {\"time\": \"2019Q4\", \"variable\": \"Transportation services\", \"value\": 0.01, \"line_label\": \"overall contribution\"}, {\"time\": \"2020Q1\", \"variable\": \"Transportation services\", \"value\": -0.72, \"line_label\": \"overall contribution\"}, {\"time\": \"2020Q2\", \"variable\": \"Transportation services\", \"value\": -2.83, \"line_label\": \"overall contribution\"}, {\"time\": \"2020Q3\", \"variable\": \"Transportation services\", \"value\": 1.07, \"line_label\": \"overall contribution\"}, {\"time\": \"2020Q4\", \"variable\": \"Transportation services\", \"value\": 0.11, \"line_label\": \"overall contribution\"}, {\"time\": \"2021Q1\", \"variable\": \"Transportation services\", \"value\": 0.11, \"line_label\": \"overall contribution\"}, {\"time\": \"2021Q2\", \"variable\": \"Transportation services\", \"value\": 0.84, \"line_label\": \"overall contribution\"}, {\"time\": \"2021Q3\", \"variable\": \"Transportation services\", \"value\": 0.83, \"line_label\": \"overall contribution\"}, {\"time\": \"2021Q4\", \"variable\": \"Transportation services\", \"value\": 0.13, \"line_label\": \"overall contribution\"}, {\"time\": \"2022Q1\", \"variable\": \"Transportation services\", \"value\": -0.03, \"line_label\": \"overall contribution\"}, {\"time\": \"2022Q2\", \"variable\": \"Transportation services\", \"value\": 0.14, \"line_label\": \"overall contribution\"}, {\"time\": \"2022Q3\", \"variable\": \"Transportation services\", \"value\": 0, \"line_label\": \"overall contribution\"}, {\"time\": \"2022Q4\", \"variable\": \"Transportation services\", \"value\": 0.01, \"line_label\": \"overall contribution\"}, {\"time\": \"2019Q1\", \"variable\": \"Recreation services\", \"value\": 0.12, \"line_label\": \"overall contribution\"}, {\"time\": \"2019Q2\", \"variable\": \"Recreation services\", \"value\": -0.09, \"line_label\": \"overall contribution\"}, {\"time\": \"2019Q3\", \"variable\": \"Recreation services\", \"value\": 0.01, \"line_label\": \"overall contribution\"}, {\"time\": \"2019Q4\", \"variable\": \"Recreation services\", \"value\": 0.04, \"line_label\": \"overall contribution\"}, {\"time\": \"2020Q1\", \"variable\": \"Recreation services\", \"value\": -0.88, \"line_label\": \"overall contribution\"}, {\"time\": \"2020Q2\", \"variable\": \"Recreation services\", \"value\": -3.66, \"line_label\": \"overall contribution\"}, {\"time\": \"2020Q3\", \"variable\": \"Recreation services\", \"value\": 1.95, \"line_label\": \"overall contribution\"}, {\"time\": \"2020Q4\", \"variable\": \"Recreation services\", \"value\": 0.06, \"line_label\": \"overall contribution\"}, {\"time\": \"2021Q1\", \"variable\": \"Recreation services\", \"value\": 0.48, \"line_label\": \"overall contribution\"}, {\"time\": \"2021Q2\", \"variable\": \"Recreation services\", \"value\": 0.71, \"line_label\": \"overall contribution\"}, {\"time\": \"2021Q3\", \"variable\": \"Recreation services\", \"value\": 0.53, \"line_label\": \"overall contribution\"}, {\"time\": \"2021Q4\", \"variable\": \"Recreation services\", \"value\": 0.35, \"line_label\": \"overall contribution\"}, {\"time\": \"2022Q1\", \"variable\": \"Recreation services\", \"value\": 0.05, \"line_label\": \"overall contribution\"}, {\"time\": \"2022Q2\", \"variable\": \"Recreation services\", \"value\": 0.21, \"line_label\": \"overall contribution\"}, {\"time\": \"2022Q3\", \"variable\": \"Recreation services\", \"value\": 0.09, \"line_label\": \"overall contribution\"}, {\"time\": \"2022Q4\", \"variable\": \"Recreation services\", \"value\": 0.08, \"line_label\": \"overall contribution\"}, {\"time\": \"2019Q1\", \"variable\": \"Food services and accommodations\", \"value\": -0.01, \"line_label\": \"overall contribution\"}, {\"time\": \"2019Q2\", \"variable\": \"Food services and accommodations\", \"value\": 0.17, \"line_label\": \"overall contribution\"}, {\"time\": \"2019Q3\", \"variable\": \"Food services and accommodations\", \"value\": 0.14, \"line_label\": \"overall contribution\"}, {\"time\": \"2019Q4\", \"variable\": \"Food services and accommodations\", \"value\": 0.12, \"line_label\": \"overall contribution\"}, {\"time\": \"2020Q1\", \"variable\": \"Food services and accommodations\", \"value\": -1.69, \"line_label\": \"overall contribution\"}, {\"time\": \"2020Q2\", \"variable\": \"Food services and accommodations\", \"value\": -5.57, \"line_label\": \"overall contribution\"}, {\"time\": \"2020Q3\", \"variable\": \"Food services and accommodations\", \"value\": 4.51, \"line_label\": \"overall contribution\"}, {\"time\": \"2020Q4\", \"variable\": \"Food services and accommodations\", \"value\": -0.12, \"line_label\": \"overall contribution\"}, {\"time\": \"2021Q1\", \"variable\": \"Food services and accommodations\", \"value\": 1.05, \"line_label\": \"overall contribution\"}, {\"time\": \"2021Q2\", \"variable\": \"Food services and accommodations\", \"value\": 2.11, \"line_label\": \"overall contribution\"}, {\"time\": \"2021Q3\", \"variable\": \"Food services and accommodations\", \"value\": 0.85, \"line_label\": \"overall contribution\"}, {\"time\": \"2021Q4\", \"variable\": \"Food services and accommodations\", \"value\": 0.17, \"line_label\": \"overall contribution\"}, {\"time\": \"2022Q1\", \"variable\": \"Food services and accommodations\", \"value\": 0.01, \"line_label\": \"overall contribution\"}, {\"time\": \"2022Q2\", \"variable\": \"Food services and accommodations\", \"value\": 0.72, \"line_label\": \"overall contribution\"}, {\"time\": \"2022Q3\", \"variable\": \"Food services and accommodations\", \"value\": 0.25, \"line_label\": \"overall contribution\"}, {\"time\": \"2022Q4\", \"variable\": \"Food services and accommodations\", \"value\": 0.09, \"line_label\": \"overall contribution\"}, {\"time\": \"2019Q1\", \"variable\": \"Financial services and insurance\", \"value\": -0.27, \"line_label\": \"overall contribution\"}, {\"time\": \"2019Q2\", \"variable\": \"Financial services and insurance\", \"value\": -0.32, \"line_label\": \"overall contribution\"}, {\"time\": \"2019Q3\", \"variable\": \"Financial services and insurance\", \"value\": -0.04, \"line_label\": \"overall contribution\"}, {\"time\": \"2019Q4\", \"variable\": \"Financial services and insurance\", \"value\": 0.08, \"line_label\": \"overall contribution\"}, {\"time\": \"2020Q1\", \"variable\": \"Financial services and insurance\", \"value\": 0.14, \"line_label\": \"overall contribution\"}, {\"time\": \"2020Q2\", \"variable\": \"Financial services and insurance\", \"value\": 0.02, \"line_label\": \"overall contribution\"}, {\"time\": \"2020Q3\", \"variable\": \"Financial services and insurance\", \"value\": 0.56, \"line_label\": \"overall contribution\"}, {\"time\": \"2020Q4\", \"variable\": \"Financial services and insurance\", \"value\": 0.4, \"line_label\": \"overall contribution\"}, {\"time\": \"2021Q1\", \"variable\": \"Financial services and insurance\", \"value\": 0.16, \"line_label\": \"overall contribution\"}, {\"time\": \"2021Q2\", \"variable\": \"Financial services and insurance\", \"value\": 0.06, \"line_label\": \"overall contribution\"}, {\"time\": \"2021Q3\", \"variable\": \"Financial services and insurance\", \"value\": 0.2, \"line_label\": \"overall contribution\"}, {\"time\": \"2021Q4\", \"variable\": \"Financial services and insurance\", \"value\": 0.33, \"line_label\": \"overall contribution\"}, {\"time\": \"2022Q1\", \"variable\": \"Financial services and insurance\", \"value\": -0.09, \"line_label\": \"overall contribution\"}, {\"time\": \"2022Q2\", \"variable\": \"Financial services and insurance\", \"value\": 0.1, \"line_label\": \"overall contribution\"}, {\"time\": \"2022Q3\", \"variable\": \"Financial services and insurance\", \"value\": 0.27, \"line_label\": \"overall contribution\"}, {\"time\": \"2022Q4\", \"variable\": \"Financial services and insurance\", \"value\": 0.04, \"line_label\": \"overall contribution\"}, {\"time\": \"2019Q1\", \"variable\": \"Other services\", \"value\": 0.15, \"line_label\": \"overall contribution\"}, {\"time\": \"2019Q2\", \"variable\": \"Other services\", \"value\": 0.12, \"line_label\": \"overall contribution\"}, {\"time\": \"2019Q3\", \"variable\": \"Other services\", \"value\": 0.46, \"line_label\": \"overall contribution\"}, {\"time\": \"2019Q4\", \"variable\": \"Other services\", \"value\": 0.22, \"line_label\": \"overall contribution\"}, {\"time\": \"2020Q1\", \"variable\": \"Other services\", \"value\": -0.34, \"line_label\": \"overall contribution\"}, {\"time\": \"2020Q2\", \"variable\": \"Other services\", \"value\": -3.25, \"line_label\": \"overall contribution\"}, {\"time\": \"2020Q3\", \"variable\": \"Other services\", \"value\": 1.81, \"line_label\": \"overall contribution\"}, {\"time\": \"2020Q4\", \"variable\": \"Other services\", \"value\": 0.68, \"line_label\": \"overall contribution\"}, {\"time\": \"2021Q1\", \"variable\": \"Other services\", \"value\": 0.44, \"line_label\": \"overall contribution\"}, {\"time\": \"2021Q2\", \"variable\": \"Other services\", \"value\": 0.79, \"line_label\": \"overall contribution\"}, {\"time\": \"2021Q3\", \"variable\": \"Other services\", \"value\": 0.81, \"line_label\": \"overall contribution\"}, {\"time\": \"2021Q4\", \"variable\": \"Other services\", \"value\": 0.14, \"line_label\": \"overall contribution\"}, {\"time\": \"2022Q1\", \"variable\": \"Other services\", \"value\": 0.48, \"line_label\": \"overall contribution\"}, {\"time\": \"2022Q2\", \"variable\": \"Other services\", \"value\": 0.5, \"line_label\": \"overall contribution\"}, {\"time\": \"2022Q3\", \"variable\": \"Other services\", \"value\": 0.48, \"line_label\": \"overall contribution\"}, {\"time\": \"2022Q4\", \"variable\": \"Other services\", \"value\": 0.09, \"line_label\": \"overall contribution\"}, {\"time\": \"2019Q1\", \"variable\": \"change\", \"value\": 3.32, \"line_label\": \"overall contribution\"}, {\"time\": \"2019Q2\", \"variable\": \"change\", \"value\": -7.52, \"line_label\": \"overall contribution\"}, {\"time\": \"2019Q3\", \"variable\": \"change\", \"value\": -0.18, \"line_label\": \"overall contribution\"}, {\"time\": \"2019Q4\", \"variable\": \"change\", \"value\": 8.52, \"line_label\": \"overall contribution\"}, {\"time\": \"2020Q1\", \"variable\": \"change\", \"value\": 3.04, \"line_label\": \"overall contribution\"}, {\"time\": \"2020Q2\", \"variable\": \"change\", \"value\": -2.7, \"line_label\": \"overall contribution\"}, {\"time\": \"2020Q3\", \"variable\": \"change\", \"value\": -1.35, \"line_label\": \"overall contribution\"}, {\"time\": \"2020Q4\", \"variable\": \"change\", \"value\": 14.25, \"line_label\": \"overall contribution\"}, {\"time\": \"2021Q1\", \"variable\": \"change\", \"value\": -3.81, \"line_label\": \"overall contribution\"}, {\"time\": \"2021Q2\", \"variable\": \"change\", \"value\": -3.65, \"line_label\": \"overall contribution\"}, {\"time\": \"2021Q3\", \"variable\": \"change\", \"value\": 0.73, \"line_label\": \"overall contribution\"}, {\"time\": \"2021Q4\", \"variable\": \"change\", \"value\": 13.44, \"line_label\": \"overall contribution\"}, {\"time\": \"2022Q1\", \"variable\": \"change\", \"value\": -3.1, \"line_label\": \"overall contribution\"}, {\"time\": \"2022Q2\", \"variable\": \"change\", \"value\": -5.97, \"line_label\": \"overall contribution\"}, {\"time\": \"2022Q3\", \"variable\": \"change\", \"value\": 3.25, \"line_label\": \"overall contribution\"}, {\"time\": \"2022Q4\", \"variable\": \"change\", \"value\": null, \"line_label\": \"overall contribution\"}]}}, {\"mode\": \"vega-lite\"});\n",
       "</script>"
      ],
      "text/plain": [
       "alt.LayerChart(...)"
      ]
     },
     "execution_count": 58,
     "metadata": {},
     "output_type": "execute_result"
    }
   ],
   "source": [
    "service2"
   ]
  },
  {
   "cell_type": "code",
   "execution_count": null,
   "id": "34da319e",
   "metadata": {},
   "outputs": [],
   "source": []
  }
 ],
 "metadata": {
  "kernelspec": {
   "display_name": "Python 3 (ipykernel)",
   "language": "python",
   "name": "python3"
  },
  "language_info": {
   "codemirror_mode": {
    "name": "ipython",
    "version": 3
   },
   "file_extension": ".py",
   "mimetype": "text/x-python",
   "name": "python",
   "nbconvert_exporter": "python",
   "pygments_lexer": "ipython3",
   "version": "3.11.0"
  }
 },
 "nbformat": 4,
 "nbformat_minor": 5
}
